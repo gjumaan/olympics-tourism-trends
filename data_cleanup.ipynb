{
 "cells": [
  {
   "cell_type": "code",
   "execution_count": null,
   "id": "2034c694",
   "metadata": {},
   "outputs": [],
   "source": [
    "#Import dependencies \n",
    "import pandas as pd\n",
    "import numpy as np\n",
    "import matplotlib.pyplot as plt\n",
    "import json\n",
    "import requests\n",
    "from scipy.stats import linregress"
   ]
  },
  {
   "cell_type": "code",
   "execution_count": null,
   "id": "b4ac7d78",
   "metadata": {},
   "outputs": [],
   "source": [
    "#Read the csv files\n",
    "olympics_df = pd.read_csv('Resources/athlete_events.csv')\n",
    "regions_df = pd.read_csv('Resources/noc_regions.csv')\n",
    "host_cities_df = pd.read_csv('Resources/olym.csv')\n",
    "arrivals_df = pd.read_csv('Resources/INT.ARVL.csv')\n",
    "departures_df = pd.read_csv('Resources/INT.DPRT.csv')\n",
    "expenditures_df = pd.read_csv('Resources/INT.XPND.csv')"
   ]
  },
  {
   "cell_type": "code",
   "execution_count": null,
   "id": "646bbafe",
   "metadata": {},
   "outputs": [],
   "source": [
    "#Jumaan start here (Question 1)"
   ]
  },
  {
   "cell_type": "code",
   "execution_count": null,
   "id": "000ee39a",
   "metadata": {},
   "outputs": [],
   "source": [
    "#Jumaan end here"
   ]
  },
  {
   "cell_type": "code",
   "execution_count": null,
   "id": "7fb927fa",
   "metadata": {},
   "outputs": [],
   "source": [
    "#Timmy start here (Question 2)"
   ]
  },
  {
   "cell_type": "markdown",
   "id": "dfdaef7a",
   "metadata": {},
   "source": [
    "Does hosting olympics affects the travel habit of the people of that country? ( People see lots of different cultures coming to them and want to explore those cultures by themselves) (Timmy)"
   ]
  },
  {
   "cell_type": "code",
   "execution_count": null,
   "id": "9780b5eb",
   "metadata": {},
   "outputs": [],
   "source": [
    "olympics_df = olympics_df.replace(['Antwerpen', 'Torino', 'Athina', 'Roma', 'Moskva', 'Sankt Moritz'], ['Antwerp', 'Turin', 'Athens', 'Rome', 'Moscow', 'St. Moritz'])"
   ]
  },
  {
   "cell_type": "code",
   "execution_count": null,
   "id": "5ff5a2e2",
   "metadata": {},
   "outputs": [],
   "source": [
    "\n",
    "host_cities_df = host_cities_df[[\"City\", \"Country\"]]\n",
    "host_cities_df.head()"
   ]
  },
  {
   "cell_type": "code",
   "execution_count": null,
   "id": "bbd19879",
   "metadata": {},
   "outputs": [],
   "source": [
    "olympics_country_df = pd.merge(olympics_df, host_cities_df, how=\"left\", on=[\"City\"])\n",
    "olympics_country_df=olympics_country_df.drop_duplicates()\n",
    "# remove duplicates\n",
    "olympics_country_df.head()"
   ]
  },
  {
   "cell_type": "code",
   "execution_count": null,
   "id": "9f71cff1",
   "metadata": {},
   "outputs": [],
   "source": [
    "#this allows me to focus on each city that hosted the games, for future merging\n",
    "cities_only = olympics_country_df.drop_duplicates(subset = ['City'])\n",
    "cities_only.head()"
   ]
  },
  {
   "cell_type": "code",
   "execution_count": null,
   "id": "4172f926",
   "metadata": {},
   "outputs": [],
   "source": [
    "#check if it's the correct number\n",
    "len(cities_only)"
   ]
  },
  {
   "cell_type": "code",
   "execution_count": null,
   "id": "5140e61f",
   "metadata": {},
   "outputs": [],
   "source": [
    "#the only columns important to me\n",
    "edited_cities_df = cities_only[[\"City\", \"Country\",\"Year\", \"Season\"]]\n",
    "edited_cities_df = edited_cities_df.reset_index(drop=True)\n"
   ]
  },
  {
   "cell_type": "code",
   "execution_count": null,
   "id": "25ac8615",
   "metadata": {},
   "outputs": [],
   "source": [
    "games_with_data = edited_cities_df.loc[edited_cities_df['Year'] > 1960]\n"
   ]
  },
  {
   "cell_type": "code",
   "execution_count": null,
   "id": "d0d29761",
   "metadata": {},
   "outputs": [],
   "source": [
    "departures_df.columns"
   ]
  },
  {
   "cell_type": "code",
   "execution_count": null,
   "id": "d28c2b1a",
   "metadata": {},
   "outputs": [],
   "source": [
    "#basically there is no data til 1995 for departures which is a bummer, so we are dropping coloumns\n",
    "departures_df.drop(departures_df.iloc[:, 4:39], inplace = True, axis = 1)\n",
    "departures_df.head()"
   ]
  },
  {
   "cell_type": "code",
   "execution_count": null,
   "id": "102d715e",
   "metadata": {
    "scrolled": false
   },
   "outputs": [],
   "source": [
    "#rename coloumn for future merging\n",
    "departures_df\n",
    "departures_df = departures_df.rename(columns={'Country Name': 'Country'})"
   ]
  },
  {
   "cell_type": "code",
   "execution_count": null,
   "id": "5347d4c5",
   "metadata": {},
   "outputs": [],
   "source": [
    "#change country names in data so it matches\n",
    "games_with_data = games_with_data.replace(['Russia', 'West Germany', 'South Korea', 'Soviet Union'],\n",
    "                                          ['Russian Federation', 'Germany', 'Korea, Rep.', 'Russian Federation'])\n"
   ]
  },
  {
   "cell_type": "code",
   "execution_count": null,
   "id": "10329bde",
   "metadata": {},
   "outputs": [],
   "source": [
    "#reseting the index for finding specific rows\n",
    "games_with_data = games_with_data.reset_index(drop=True)"
   ]
  },
  {
   "cell_type": "code",
   "execution_count": null,
   "id": "f8c7091e",
   "metadata": {},
   "outputs": [],
   "source": [
    "#no data on Yugoslavia so bye\n",
    "games_with_data = games_with_data.drop([16])\n"
   ]
  },
  {
   "cell_type": "code",
   "execution_count": null,
   "id": "c648146a",
   "metadata": {},
   "outputs": [],
   "source": [
    "#merging data\n",
    "olympics_host_depart_df = pd.merge(games_with_data, departures_df, how=\"left\", on=[\"Country\"])\n",
    "olympics_host_depart_df = olympics_host_depart_df.drop_duplicates()"
   ]
  },
  {
   "cell_type": "code",
   "execution_count": null,
   "id": "81ea41dc",
   "metadata": {},
   "outputs": [],
   "source": [
    "#departure information basically starts at 1995\n",
    "olympics_hostingclose_df=olympics_host_depart_df.loc[olympics_host_depart_df['Year'] > 1995]\n"
   ]
  },
  {
   "cell_type": "code",
   "execution_count": null,
   "id": "f5835bb5",
   "metadata": {},
   "outputs": [],
   "source": [
    "#the cities/countries that hosted the olympics and has depart info on them\n",
    "olympics_hostingclose_df = olympics_hostingclose_df.reset_index(drop=True)\n",
    "olympics_final_df = olympics_hostingclose_df.drop([9])\n",
    "olympics_final_df"
   ]
  },
  {
   "cell_type": "code",
   "execution_count": null,
   "id": "45b3e7bd",
   "metadata": {},
   "outputs": [],
   "source": [
    "olympics_final_df.set_index('Country')\n"
   ]
  },
  {
   "cell_type": "code",
   "execution_count": null,
   "id": "2ccac6f0",
   "metadata": {},
   "outputs": [],
   "source": [
    "# starting to try to work data in a way thats good for graphs\n",
    "for_graph = olympics_final_df"
   ]
  },
  {
   "cell_type": "code",
   "execution_count": null,
   "id": "86c41507",
   "metadata": {},
   "outputs": [],
   "source": [
    "#simplify drop a bunch of coloums\n",
    "for_graph = for_graph.drop(['City', 'Year','Season', 'Country Code', 'Indicator Name',\n",
    "       'Indicator Code', '2019', '2020'], axis=1)"
   ]
  },
  {
   "cell_type": "code",
   "execution_count": null,
   "id": "e7173496",
   "metadata": {},
   "outputs": [],
   "source": [
    "for_graph.set_index('Country')"
   ]
  },
  {
   "cell_type": "code",
   "execution_count": null,
   "id": "431ca50e",
   "metadata": {},
   "outputs": [],
   "source": [
    "for_graph = for_graph.astype(dict.fromkeys(for_graph.columns[1:25], float))"
   ]
  },
  {
   "cell_type": "code",
   "execution_count": null,
   "id": "3cce2241",
   "metadata": {},
   "outputs": [],
   "source": [
    "#figureout how to do a for loop for this\n",
    "# do pct chabfe for each and also fill in the first cell since it will be NA\n",
    "\n",
    "#summer game\n",
    "uk = for_graph.iloc[0]\n",
    "uk_years = uk[1 : 25]\n",
    "uk_pct_hoststart = uk[18: 22].pct_change() * 100 \n",
    "uk_pct_hoststart = uk_pct_hoststart.fillna(0)\n",
    "\n",
    "#winter game\n",
    "usa_1 = for_graph.iloc[1]\n",
    "usa_1_years = usa_1[1 : 25]\n",
    "usa_1_pct_hoststart = usa_1[8: 12].pct_change() * 100\n",
    "usa_1_pct_hoststart = usa_1_pct_hoststart.fillna(0)\n",
    "\n",
    "#summer game\n",
    "aus = for_graph.iloc[2]\n",
    "aus_years = aus[1 : 25]\n",
    "aus_pct_hoststart = aus[6 : 10].pct_change() * 100\n",
    "aus_pct_hoststart = aus_pct_hoststart.fillna(0) \n",
    "\n",
    "#summer game\n",
    "usa_2 = for_graph.iloc[3]\n",
    "usa_2_years = usa_2[1 : 25]\n",
    "usa_2_pct_hoststart = usa_2[2: 6].pct_change() * 100\n",
    "usa_2_pct_hoststart = usa_2_pct_hoststart.fillna(0)\n",
    "\n",
    "#winter game\n",
    "rus = for_graph.iloc[4]\n",
    "rus_years = rus[1 : 25]\n",
    "rus_pct_hoststart = rus[20 : 24].pct_change() * 100\n",
    "rus_pct_hoststart = rus_pct_hoststart.fillna(0)\n",
    "\n",
    "#winter game\n",
    "jap = for_graph.iloc[5]\n",
    "jap_years = jap[1 : 25]\n",
    "jap_pct_hoststart = jap[4 : 8].pct_change() * 100\n",
    "jap_pct_hoststart = jap_pct_hoststart.fillna(0)\n",
    "\n",
    "#winter game\n",
    "ita = for_graph.iloc[6]\n",
    "ita_years = ita[1 : 25]\n",
    "ita_pct_hoststart = ita[12 : 16].pct_change() * 100\n",
    "ita_pct_hoststart = ita_pct_hoststart.fillna(0)\n",
    "\n",
    "#summer game\n",
    "chi = for_graph.iloc[7]\n",
    "chi_years = chi[1 : 25]\n",
    "chi_pct_hoststart = chi[14 : 18].pct_change() * 100\n",
    "chi_pct_hoststart = chi_pct_hoststart.fillna(0)\n",
    "\n",
    "#summer game\n",
    "bra = for_graph.iloc[8]\n",
    "bra_years = bra[1 : 25]\n",
    "bra_pct_hoststart = bra[22 : 26].pct_change() * 100\n",
    "bra_pct_hoststart = bra_pct_hoststart.fillna(0)\n",
    "\n",
    "#winter game\n",
    "can = for_graph.iloc[9]\n",
    "can_years = can[1 : 25]\n",
    "can_pct_hoststart = can[16 : 20].pct_change() * 100\n",
    "can_pct_hoststart = can_pct_hoststart.fillna(0)\n"
   ]
  },
  {
   "cell_type": "code",
   "execution_count": null,
   "id": "ea8837bc",
   "metadata": {},
   "outputs": [],
   "source": [
    "#pecercent change graph of when each country hosted the oylmpics\n",
    "x_axis = range(len(uk_pct_hoststart)) \n",
    "\n",
    "\n",
    "plt.plot(x_axis, ita_pct_hoststart)\n",
    "plt.plot(x_axis, can_pct_hoststart)\n",
    "plt.plot(x_axis, usa_1_pct_hoststart)\n",
    "plt.plot(x_axis, jap_pct_hoststart)\n",
    "plt.plot(x_axis, rus_pct_hoststart)\n",
    "\n",
    "plt.legend(['Italy 2006','Canada 2010','USA 2002','Japan 1998', 'Russia 2014'],\n",
    "           loc='center left', bbox_to_anchor=(1, 0.82))\n",
    "\n",
    "plt.title(\"Winter Olympic Games\")\n",
    "plt.ylabel(\"Percent Change %\")\n",
    "plt.xlabel(\"Years Since Hosting\")\n",
    "plt.savefig(\"graphs_Timmy/pct_change_winter\")\n",
    "plt.show()"
   ]
  },
  {
   "cell_type": "code",
   "execution_count": null,
   "id": "e5ef2ecf",
   "metadata": {},
   "outputs": [],
   "source": [
    "#fillin in the last value because it isnt worthing throuwing out that row\n",
    "bra_pct_hoststart[\"2019\"] = np.nan\n",
    "bra_pct_hoststart = bra_pct_hoststart.fillna(method=\"ffill\")"
   ]
  },
  {
   "cell_type": "code",
   "execution_count": null,
   "id": "a4f088d0",
   "metadata": {},
   "outputs": [],
   "source": [
    "#pecercent change graph of when each country hosted the oylmpics\n",
    "plt.plot(x_axis, uk_pct_hoststart)\n",
    "plt.plot(x_axis, aus_pct_hoststart)\n",
    "plt.plot(x_axis, usa_2_pct_hoststart)\n",
    "plt.plot(x_axis, chi_pct_hoststart)\n",
    "plt.plot(x_axis, bra_pct_hoststart)\n",
    "\n",
    "plt.legend(['United Kingdom 2012','Australia 2000','USA 1996','China 2008', 'Brazil 2016'],\n",
    "           loc='center left', bbox_to_anchor=(1, 0.82))\n",
    "\n",
    "plt.title(\"Summer Olympic Games\")\n",
    "plt.ylabel(\"Percent Change %\")\n",
    "plt.xlabel(\"Years Since Hosting\")\n",
    "plt.savefig(\"graphs_Timmy/pct_change_summer\")\n",
    "plt.show()"
   ]
  },
  {
   "cell_type": "code",
   "execution_count": null,
   "id": "5f9e01f3",
   "metadata": {},
   "outputs": [],
   "source": [
    "years = [int(i) for i in for_graph.iloc[:,1:].columns.tolist()]\n",
    "years_early = [int(i) for i in for_graph.iloc[:,1:].columns.tolist()]\n",
    "\n",
    "#years.drop(years.index[[1,2,3,4,5,6,7,8,9,10,11]], inplace=True)\n",
    "#del years[0:13]\n",
    "del years_early[13:25]\n"
   ]
  },
  {
   "cell_type": "code",
   "execution_count": null,
   "id": "25963be1",
   "metadata": {},
   "outputs": [],
   "source": [
    "china = for_graph.iloc[7]\n",
    "china_postyears = china[14 : 25]\n",
    "china_preyears = china[1 : 14]\n",
    "china_pct_hoststart = china[13 : 25].pct_change() * 100\n"
   ]
  },
  {
   "cell_type": "code",
   "execution_count": null,
   "id": "432981ad",
   "metadata": {},
   "outputs": [],
   "source": [
    "china_preyears = china_preyears.astype(float)\n",
    "china_postyears = china_postyears.astype(float)\n",
    "\n"
   ]
  },
  {
   "cell_type": "code",
   "execution_count": null,
   "id": "d95cba04",
   "metadata": {},
   "outputs": [],
   "source": [
    "#neccsary\n",
    "years = years[0:24]\n",
    "    \n",
    "years_ints = []\n",
    "for item in years:\n",
    "    years_ints.append(int(item))\n",
    "\n",
    "china = china[1:25]\n",
    "\n",
    "china_ints = []\n",
    "for x in china:\n",
    "    china_ints.append(int(x))"
   ]
  },
  {
   "cell_type": "code",
   "execution_count": null,
   "id": "28ef4fcc",
   "metadata": {},
   "outputs": [],
   "source": [
    "#when in doubt put it in a new dataframe, helpgul tip the rows must match\n",
    "china_df = pd.DataFrame({\"Total Years\":years_ints, \n",
    "                        \"Total Departs\":china_ints})\n",
    "\n"
   ]
  },
  {
   "cell_type": "code",
   "execution_count": null,
   "id": "a4444111",
   "metadata": {},
   "outputs": [],
   "source": [
    "\n",
    "\n",
    "early_years = china_df['Total Years'][0:13]\n",
    "early_departs = china_df['Total Departs'][0:13]\n",
    "\n",
    "post_years = china_df['Total Years'][14:24]\n",
    "post_departs = china_df['Total Departs'][14:24]\n"
   ]
  },
  {
   "cell_type": "code",
   "execution_count": null,
   "id": "f9d8f202",
   "metadata": {},
   "outputs": [],
   "source": [
    "x_values = china_df['Total Years']\n",
    "y_values = china_df['Total Departs']\n",
    "\n",
    "\n",
    "plt.scatter(x_values, y_values, marker = \"o\", color = \"blue\",edgecolor = \"black\")\n",
    "\n",
    "#overall\n",
    "(slope, intercept, rvalue, pvalue, stderr) = linregress(x_values, y_values)\n",
    "regress_values = x_values * slope + intercept\n",
    "line_eq = \"y = \" + str(round(slope,2)) + \"x + \" + str(round(intercept,2))\n",
    "\n",
    "#early years1\n",
    "(slope1, intercept1, rvalue1, pvalue1, stderr1) = linregress(early_years, early_departs)\n",
    "regress_values1 = early_years * slope1 + intercept1\n",
    "line_eq1 = \"y = \" + str(round(slope,2)) + \"x + \" + str(round(intercept,2))\n",
    "\n",
    "#later years 2\n",
    "(slope2, intercept2, rvalue2, pvalue2, stderr2) = linregress(post_years, post_departs)\n",
    "regress_values2 = post_years * slope2 + intercept2\n",
    "line_eq2 = \"y = \" + str(round(slope,2)) + \"x + \" + str(round(intercept,2))\n",
    "\n",
    "\n",
    "#plt.scatter(x_values,y_values)\n",
    "plt.plot(x_values,regress_values,\"g-\")\n",
    "plt.plot(early_years,regress_values1,\"r-\")\n",
    "plt.plot(post_years,regress_values2,\"b-\")\n",
    "\n",
    "plt.grid()\n",
    "plt.xlabel(\"Years\")\n",
    "plt.ylabel(\"Departures from China(mil)\")\n",
    "plt.title(\"Trend Line\")\n",
    "plt.savefig(\"graphs_Timmy/China_rate_change\")\n",
    "plt.show()"
   ]
  },
  {
   "cell_type": "code",
   "execution_count": null,
   "id": "43551c76",
   "metadata": {},
   "outputs": [],
   "source": [
    "round(slope2)/round(slope1)"
   ]
  },
  {
   "cell_type": "markdown",
   "id": "06b0b1b4",
   "metadata": {},
   "source": [
    "   The Olympics is a massive international event that brings together around two hundred countries for an exciting \n",
    "two weeks of athletic events. However, our thesis states that hosting the Olympics has much bigger effects that \n",
    "go past just the two week period. My section is focused on how it impacts the citizens of the host country, \n",
    "specifically in the focus of tourism. We chose to focus on tourism because one of the underlying messages of \n",
    "the Olympics is of unity, of exploration, and to push oneself. This emphasis is more hypothetically more heavily felt \n",
    "by the host countries citizens that are seeing the best of their own country on this international stage. The impact \n",
    "should be a noticeable increase in citizens going on international trips to visit other countries, since they were \n",
    "inspired to explore the world. In the following paragraph we shall see if this holds up, and how I worked through the\n",
    "data to find said results.\n",
    "   I’ve learned that cleaning the data, and completely understanding is not only fundamental to analyzing data, but also fascinating. The routes each of us took and branched from to find answers for each of our own questions shows the flexibility and the power of this first crucial step to analyzing any data. I digress, the main highlights, are whittling down the massive olympics data to only have the city, the country, the year, and season of the game for the past hundred years, which is forty-two places. Then by merging left and constricting for the years on when we have information on the number of departures, which results to ten cities from 1995 to 2018. Perfectly, that leaves us with five Winter Olympic Games and five Summer Olympic Games to analyze. To graph some of the data I discovered. I focused one section at looking at all the summer and winter games on their own graphs, and I believe the best way to visualize the changes over time would be a multi line graph to compare the trajectories in a succinct way. The best way is to have the year of each country hosting as the start date and then make the each timeline relative to it’s own growth, so I decided to make this graph focus on the percent change for the next three years to see if there was an increase or decrease in departures. What I found seems to be slightly positive to an increase in departures post hosting the Olympics, however it’s more inconclusive, since the results are generally all over the place without any similar patterns matching up. Which is frustrating, but fair since, the world is a complex place and not everything is going to be so simple for a cause and effect.\n",
    "   The second graph, I decided to focus on one country and see if a linear regression could be insightful to see if the rate of departures changed from pre hosting the Olympics to post. I chose China as the candidate because in just a few months it will be hosting the Olympics again, so it would be fun to see if any the linear regression would still hold true. (Though with the pandemic about, probably not.) I created the linear regressions and found the slope after hosting was three point nine times the rate of departures before hosting the Olympics. This could be a strong result for use to be able to slightly reject the null hypothesis.\n",
    "   This increase of international tourism and travel can be from the impact the Olympic Games had on individual people as well as corporations to pursue connections outside of China. As China is one of the booming economies the more business fields the countries companies can partner with the more travel to said countries would most likely follow. That is just one of several reasons why the departure rate increased, still I’m happy that we can reject the null hypothesis in some capacity!"
   ]
  },
  {
   "cell_type": "code",
   "execution_count": null,
   "id": "4a097d45",
   "metadata": {},
   "outputs": [],
   "source": [
    "#Timmy end here"
   ]
  },
  {
   "cell_type": "code",
   "execution_count": null,
   "id": "0831b694",
   "metadata": {},
   "outputs": [],
   "source": [
    "#Raj start here (Question 3)"
   ]
  },
  {
   "cell_type": "code",
   "execution_count": null,
   "id": "4aadd936",
   "metadata": {},
   "outputs": [],
   "source": [
    "#Raj end here"
   ]
  },
  {
   "cell_type": "code",
   "execution_count": null,
   "id": "1b0aee1d",
   "metadata": {},
   "outputs": [],
   "source": [
    "#Fatma start here (Question 4)"
   ]
  },
  {
   "cell_type": "code",
   "execution_count": null,
   "id": "13e24274",
   "metadata": {},
   "outputs": [],
   "source": [
    "#Fatma end here"
   ]
  }
 ],
 "metadata": {
  "kernelspec": {
   "display_name": "Python 3",
   "language": "python",
   "name": "python3"
  },
  "language_info": {
   "codemirror_mode": {
    "name": "ipython",
    "version": 3
   },
   "file_extension": ".py",
   "mimetype": "text/x-python",
   "name": "python",
   "nbconvert_exporter": "python",
   "pygments_lexer": "ipython3",
   "version": "3.8.8"
  }
 },
 "nbformat": 4,
 "nbformat_minor": 5
}
