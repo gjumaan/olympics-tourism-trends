{
 "cells": [
  {
   "cell_type": "code",
   "execution_count": null,
   "id": "2034c694",
   "metadata": {},
   "outputs": [],
   "source": [
    "#Import dependencies \n",
    "import pandas as pd\n",
    "import numpy as np\n",
    "import scipy.stats as stats\n",
    "import matplotlib.pyplot as plt\n",
    "import json\n",
    "import requests\n",
    "from scipy.stats import linregress\n",
    "import scipy.stats as stats"
   ]
  },
  {
   "cell_type": "code",
   "execution_count": null,
   "id": "b4ac7d78",
   "metadata": {},
   "outputs": [],
   "source": [
    "#Read the csv files\n",
    "olympics_df = pd.read_csv('Resources/athlete_events.csv')\n",
    "host_cities_df = pd.read_csv('Resources/olym.csv')\n",
    "arrivals_df = pd.read_csv('Resources/INT.ARVL.csv')\n",
    "departures_df = pd.read_csv('Resources/INT.DPRT.csv')\n",
    "expenditures_df = pd.read_csv('Resources/INT.XPND.csv')"
   ]
  },
  {
   "cell_type": "code",
   "execution_count": null,
   "id": "646bbafe",
   "metadata": {},
   "outputs": [],
   "source": [
    "#Jumaan start here (Question 1)"
   ]
  },
  {
   "cell_type": "markdown",
   "id": "bec77fad",
   "metadata": {},
   "source": [
    "How does hosting the olympics affect tourism for the host country in terms of international visitors and total expenditures?"
   ]
  },
  {
   "cell_type": "code",
   "execution_count": null,
   "id": "0abfd0f1",
   "metadata": {},
   "outputs": [],
   "source": [
    "#Get the rows for the last 6 cities that hosted olympics\n",
    "filtered_data = host_cities_df.iloc[45:]\n",
    "\n",
    "#Get rid of unnecessary columns\n",
    "last_six_hosts = filtered_data[['City', 'Country', 'Year']]"
   ]
  },
  {
   "cell_type": "code",
   "execution_count": null,
   "id": "0a847763",
   "metadata": {},
   "outputs": [],
   "source": [
    "#Rename country in arrivals dataset if different from host cities dataset\n",
    "arrivals_df = arrivals_df.replace('Russian Federation', 'Russia')\n",
    "\n",
    "#Rename column to allow merging\n",
    "arrivals_df = arrivals_df.rename(columns={'Country Name': 'Country'})"
   ]
  },
  {
   "cell_type": "code",
   "execution_count": null,
   "id": "dffefc2b",
   "metadata": {},
   "outputs": [],
   "source": [
    "#Merge Datasets\n",
    "combined_df = last_six_hosts.merge(arrivals_df, on='Country', how='left')\n",
    "\n",
    "#Get rid of unnecessary columns\n",
    "combined_df = combined_df.drop(['Country Code', 'Indicator Name', 'Indicator Code'], axis=1)\n",
    "\n",
    "#Drop NaN columns\n",
    "combined_df = combined_df.dropna(axis=1)"
   ]
  },
  {
   "cell_type": "code",
   "execution_count": null,
   "id": "65a8fafe",
   "metadata": {},
   "outputs": [],
   "source": [
    "#Create a function that calculates percent change\n",
    "def percent_change(value_1, value_2):\n",
    "    return (value_2 - value_1)/value_1 * 100\n",
    "\n",
    "#Create a new data frame that holds the host countries and the arrival data for the year prior to hosting and the year they hosted\n",
    "arrival_change_df = pd.DataFrame({\n",
    "    'Country': combined_df['Country'],\n",
    "    'Host Year': combined_df['Year'],\n",
    "    'Arrivals before Host Year': '',\n",
    "    'Arrivals on Host Year': '',\n",
    "    'Percent Change': ''\n",
    "    \n",
    "})\n",
    "\n",
    "arrival_data_prior_host_year = [combined_df.iloc[0, 13], combined_df.iloc[1, 15], combined_df.iloc[2, 17], \\\n",
    "                            combined_df.iloc[3, 19], combined_df.iloc[4, 21], combined_df.iloc[5, 23]]\n",
    "\n",
    "arrival_data_on_host_year = [combined_df.iloc[0, 14], combined_df.iloc[1, 16], combined_df.iloc[2, 18], \\\n",
    "                            combined_df.iloc[3, 20], combined_df.iloc[4, 22], combined_df.iloc[5, 24]]\n",
    "\n",
    "arrival_change_df['Arrivals before Host Year'] = arrival_data_prior_host_year\n",
    "\n",
    "arrival_change_df['Arrivals on Host Year'] = arrival_data_on_host_year\n",
    "\n",
    "arrival_change_df['Percent Change'] = percent_change(arrival_change_df['Arrivals before Host Year'], arrival_change_df['Arrivals on Host Year'])\n",
    "\n",
    "arrival_change_df"
   ]
  },
  {
   "cell_type": "code",
   "execution_count": null,
   "id": "bc396675",
   "metadata": {},
   "outputs": [],
   "source": [
    "#Line graph for Arrivals\n",
    "\n",
    "#x-axis\n",
    "list_of_years = [int(i) for i in combined_df.iloc[:,13:].columns.tolist()]\n",
    "\n",
    "#y-axis\n",
    "italy_arrivals = combined_df.iloc[0,13:]\n",
    "china_arrivals = combined_df.iloc[1,13:]\n",
    "canada_arrivals = combined_df.iloc[2,13:]\n",
    "uk_arrivals = combined_df.iloc[3, 13:]\n",
    "russia_arrivals = combined_df.iloc[4, 13:]\n",
    "brazil_arrivals = combined_df.iloc[5, 13:]\n",
    "\n",
    "#set figure size\n",
    "plt.figure(figsize=(15, 10))\n",
    "\n",
    "#plots\n",
    "plt.plot(list_of_years,italy_arrivals,label='Italy')\n",
    "plt.plot(list_of_years,china_arrivals,label='China')\n",
    "plt.plot(list_of_years,canada_arrivals,label='Canada')\n",
    "plt.plot(list_of_years,uk_arrivals,label='UK')\n",
    "plt.plot(list_of_years,russia_arrivals,label='Russia')\n",
    "plt.plot(list_of_years,brazil_arrivals,label='Brazil')\n",
    "\n",
    "#highlight the hosted year point\n",
    "plt.plot(list_of_years[1], italy_arrivals[1], 'ko')\n",
    "plt.plot(list_of_years[3],china_arrivals[3], 'ko')\n",
    "plt.plot(list_of_years[5],canada_arrivals[5], 'ko')\n",
    "plt.plot(list_of_years[7],uk_arrivals[7], 'ko')\n",
    "plt.plot(list_of_years[9],russia_arrivals[9], 'ko')\n",
    "plt.plot(list_of_years[11],brazil_arrivals[11], 'ko')\n",
    "\n",
    "#formatting\n",
    "plt.title('Years vs. International Arrivals')\n",
    "plt.xlabel('Years')\n",
    "plt.ylabel('Number of Arrivals')\n",
    "plt.xticks(list_of_years, rotation=90)\n",
    "plt.legend()\n",
    "\n",
    "plt.show()"
   ]
  },
  {
   "cell_type": "code",
   "execution_count": null,
   "id": "d15f4c40",
   "metadata": {},
   "outputs": [],
   "source": [
    "#Rename country in expenditures dataset if different from host cities dataset\n",
    "expenditures_df = expenditures_df.replace('Russian Federation', 'Russia')\n",
    "\n",
    "#Rename column to allow merging\n",
    "expenditures_df = expenditures_df.rename(columns={'Country Name': 'Country'})"
   ]
  },
  {
   "cell_type": "code",
   "execution_count": null,
   "id": "4d7603ab",
   "metadata": {},
   "outputs": [],
   "source": [
    "#Merge Datasets\n",
    "combined_df = last_six_hosts.merge(expenditures_df, on='Country', how='left')\n",
    "\n",
    "#Get rid of unnecessary columns\n",
    "combined_df = combined_df.drop(['Country Code', 'Indicator Name', 'Indicator Code'], axis=1)\n",
    "\n",
    "#Drop NaN columns\n",
    "combined_df = combined_df.dropna(axis=1)"
   ]
  },
  {
   "cell_type": "code",
   "execution_count": null,
   "id": "009749e7",
   "metadata": {},
   "outputs": [],
   "source": [
    "#Create a new data frame that holds the host countries and the expenditures data for the year prior to hosting, the year they hosted and the year after hosting \n",
    "expenditure_change_df = pd.DataFrame({\n",
    "    'Country': combined_df['Country'],\n",
    "    'Host Year': combined_df['Year'],\n",
    "    'Expenditures before Host Year': '',\n",
    "    'Expenditures on Host Year': '',\n",
    "    'Percent Change': ''\n",
    "    \n",
    "})\n",
    "\n",
    "expenditure_data_prior_host_year = [combined_df.iloc[0, 13], combined_df.iloc[1, 15], combined_df.iloc[2, 17], \\\n",
    "                            combined_df.iloc[3, 19], combined_df.iloc[4, 21], combined_df.iloc[5, 23]]\n",
    "\n",
    "expenditure_data_on_host_year = [combined_df.iloc[0, 14], combined_df.iloc[1, 16], combined_df.iloc[2, 18], \\\n",
    "                            combined_df.iloc[3, 20], combined_df.iloc[4, 22], combined_df.iloc[5, 24]]\n",
    "\n",
    "expenditure_change_df['Expenditures before Host Year'] = expenditure_data_prior_host_year\n",
    "\n",
    "expenditure_change_df['Expenditures on Host Year'] = expenditure_data_on_host_year\n",
    "\n",
    "expenditure_change_df['Percent Change'] = percent_change(expenditure_change_df['Expenditures before Host Year'], expenditure_change_df['Expenditures on Host Year'])\n",
    "\n",
    "expenditure_change_df"
   ]
  },
  {
   "cell_type": "code",
   "execution_count": null,
   "id": "4ed0f770",
   "metadata": {},
   "outputs": [],
   "source": [
    "# Extract individual groups\n",
    "before_host = expenditure_change_df['Expenditures before Host Year']\n",
    "on_host = expenditure_change_df['Expenditures on Host Year']\n",
    "\n",
    "# Numbers of pairs of bars\n",
    "N = 6\n",
    "\n",
    "# Position of bars on x-axis\n",
    "position = np.arange(N)\n",
    "\n",
    "# Figure size\n",
    "plt.figure(figsize=(15,10))\n",
    "\n",
    "# Width of a bar \n",
    "width = 0.2\n",
    "\n",
    "# Plotting\n",
    "plt.bar(position, before_host, width, label='Before Hosting')\n",
    "plt.bar(position + width, on_host, width, label='Year of Hosting')\n",
    "\n",
    "plt.xlabel('Host Country')\n",
    "plt.ylabel('US Dollars ($)')\n",
    "plt.title('Olympics Host Country vs. International Expenditures')\n",
    "\n",
    "# xticks()\n",
    "plt.xticks(position + width/ 2, expenditure_change_df['Country'])\n",
    "\n",
    "# Finding the best position for legends and putting it\n",
    "plt.legend(loc='best')\n",
    "plt.show()"
   ]
  },
  {
   "cell_type": "markdown",
   "id": "a18692b9",
   "metadata": {},
   "source": [
    "# Question 1 Report\n",
    "\n",
    "The Olympics is a time of competition and national pride. People around the world arrive at the Olympics to support their nation's athletes throughout many sporting events. While the olympics are catered around its athletic events and fans, it is also very much about business. Host cities invest into the Olympics heavily in hopes of making sizable gains for both the local and national economy through tourism, marketing, etc. In this analysis, we look at the influence of the Olympics on the host country's international arrival data as well as international expenditure data.\n",
    "\n",
    "Looking at the timeline graph outlining the international arrival data for countries that hosted since 2006, we can see that majority of the countries experienced an uptick in their number of international arrivals on the year they hosted aside from China. China's number of international arrivals dropped by 3% compared to the year before. However, there is much needed context to explain this change. Leading up to the 2008 Summer Olympics, there were numerous concerns regarding human rights violation committed by China during the civil unrest in Tibet that led high-profile politicians and celebrities to boycott the games. Additionally, the level of air pollution in Beijing came under scrutiny due to the hazard it posed to the competing athletes and the general public. The financial crisis of 2007-2008 was also a factor since it was a severe worldwide economic crisis limiting an individual's spending ability.\n",
    "\n",
    "The international expenditure data, on the other hand, tells us a different story of the macroeconomy during the time of Olympics and the year after. Nations such as Italy, China, Canada, and the United Kingdom experienced an increase in their international expenditures the year they hosted the Olympics as opposed to Russia and Brazil. Russia hosted the Olympics in 2014, a time at which they were experiencing their own financial crisis. Due to the fall in price of oil, a major export of Russia, a sharp devaluation of the Russian ruble took place. Similarily, Brazil also faced an economic crisis in 2015, a year before hosting the Olympics. This occured as a result of a dispute in the legitmacy of the Brazilian elections leading to dissatification with the government by the general public. There were also concerns about the Zika virus that raised fears regarding its potential effect on competing athletes and visitors. "
   ]
  },
  {
   "cell_type": "code",
   "execution_count": null,
   "id": "000ee39a",
   "metadata": {},
   "outputs": [],
   "source": [
    "#Jumaan end here"
   ]
  },
  {
   "cell_type": "code",
   "execution_count": null,
   "id": "7fb927fa",
   "metadata": {},
   "outputs": [],
   "source": [
    "#Timmy start here (Question 2)"
   ]
  },
  {
   "cell_type": "markdown",
   "id": "dfdaef7a",
   "metadata": {},
   "source": [
    "Does hosting olympics affects the travel habit of the people of that country? ( People see lots of different cultures coming to them and want to explore those cultures by themselves) (Timmy)"
   ]
  },
  {
   "cell_type": "code",
   "execution_count": null,
   "id": "9780b5eb",
   "metadata": {},
   "outputs": [],
   "source": [
    "olympics_df = olympics_df.replace(['Antwerpen', 'Torino', 'Athina', 'Roma', 'Moskva', 'Sankt Moritz'], ['Antwerp', 'Turin', 'Athens', 'Rome', 'Moscow', 'St. Moritz'])"
   ]
  },
  {
   "cell_type": "code",
   "execution_count": null,
   "id": "5ff5a2e2",
   "metadata": {},
   "outputs": [],
   "source": [
    "\n",
    "host_cities_df = host_cities_df[[\"City\", \"Country\"]]\n",
    "host_cities_df.head()"
   ]
  },
  {
   "cell_type": "code",
   "execution_count": null,
   "id": "bbd19879",
   "metadata": {},
   "outputs": [],
   "source": [
    "olympics_country_df = pd.merge(olympics_df, host_cities_df, how=\"left\", on=[\"City\"])\n",
    "olympics_country_df=olympics_country_df.drop_duplicates()\n",
    "# remove duplicates\n",
    "olympics_country_df.head()"
   ]
  },
  {
   "cell_type": "code",
   "execution_count": null,
   "id": "9f71cff1",
   "metadata": {},
   "outputs": [],
   "source": [
    "#this allows me to focus on each city that hosted the games, for future merging\n",
    "cities_only = olympics_country_df.drop_duplicates(subset = ['City'])\n",
    "cities_only.head()"
   ]
  },
  {
   "cell_type": "code",
   "execution_count": null,
   "id": "4172f926",
   "metadata": {},
   "outputs": [],
   "source": [
    "#check if it's the correct number\n",
    "len(cities_only)"
   ]
  },
  {
   "cell_type": "code",
   "execution_count": null,
   "id": "5140e61f",
   "metadata": {},
   "outputs": [],
   "source": [
    "#the only columns important to me\n",
    "edited_cities_df = cities_only[[\"City\", \"Country\",\"Year\", \"Season\"]]\n",
    "edited_cities_df = edited_cities_df.reset_index(drop=True)\n"
   ]
  },
  {
   "cell_type": "code",
   "execution_count": null,
   "id": "25ac8615",
   "metadata": {},
   "outputs": [],
   "source": [
    "games_with_data = edited_cities_df.loc[edited_cities_df['Year'] > 1960]\n"
   ]
  },
  {
   "cell_type": "code",
   "execution_count": null,
   "id": "d0d29761",
   "metadata": {},
   "outputs": [],
   "source": [
    "departures_df.columns"
   ]
  },
  {
   "cell_type": "code",
   "execution_count": null,
   "id": "d28c2b1a",
   "metadata": {},
   "outputs": [],
   "source": [
    "#basically there is no data til 1995 for departures which is a bummer, so we are dropping coloumns\n",
    "departures_df.drop(departures_df.iloc[:, 4:39], inplace = True, axis = 1)\n",
    "departures_df.head()"
   ]
  },
  {
   "cell_type": "code",
   "execution_count": null,
   "id": "102d715e",
   "metadata": {
    "scrolled": false
   },
   "outputs": [],
   "source": [
    "#rename coloumn for future merging\n",
    "departures_df\n",
    "departures_df = departures_df.rename(columns={'Country Name': 'Country'})"
   ]
  },
  {
   "cell_type": "code",
   "execution_count": null,
   "id": "5347d4c5",
   "metadata": {},
   "outputs": [],
   "source": [
    "#change country names in data so it matches\n",
    "games_with_data = games_with_data.replace(['Russia', 'West Germany', 'South Korea', 'Soviet Union'],\n",
    "                                          ['Russian Federation', 'Germany', 'Korea, Rep.', 'Russian Federation'])\n"
   ]
  },
  {
   "cell_type": "code",
   "execution_count": null,
   "id": "10329bde",
   "metadata": {},
   "outputs": [],
   "source": [
    "#reseting the index for finding specific rows\n",
    "games_with_data = games_with_data.reset_index(drop=True)"
   ]
  },
  {
   "cell_type": "code",
   "execution_count": null,
   "id": "f8c7091e",
   "metadata": {},
   "outputs": [],
   "source": [
    "#no data on Yugoslavia so bye\n",
    "games_with_data = games_with_data.drop([16])\n"
   ]
  },
  {
   "cell_type": "code",
   "execution_count": null,
   "id": "c648146a",
   "metadata": {},
   "outputs": [],
   "source": [
    "#merging data\n",
    "olympics_host_depart_df = pd.merge(games_with_data, departures_df, how=\"left\", on=[\"Country\"])\n",
    "olympics_host_depart_df = olympics_host_depart_df.drop_duplicates()"
   ]
  },
  {
   "cell_type": "code",
   "execution_count": null,
   "id": "81ea41dc",
   "metadata": {},
   "outputs": [],
   "source": [
    "#departure information basically starts at 1995\n",
    "olympics_hostingclose_df=olympics_host_depart_df.loc[olympics_host_depart_df['Year'] > 1995]\n"
   ]
  },
  {
   "cell_type": "code",
   "execution_count": null,
   "id": "f5835bb5",
   "metadata": {},
   "outputs": [],
   "source": [
    "#the cities/countries that hosted the olympics and has depart info on them\n",
    "olympics_hostingclose_df = olympics_hostingclose_df.reset_index(drop=True)\n",
    "olympics_final_df = olympics_hostingclose_df.drop([9])\n",
    "olympics_final_df"
   ]
  },
  {
   "cell_type": "code",
   "execution_count": null,
   "id": "45b3e7bd",
   "metadata": {},
   "outputs": [],
   "source": [
    "olympics_final_df.set_index('Country')\n"
   ]
  },
  {
   "cell_type": "code",
   "execution_count": null,
   "id": "2ccac6f0",
   "metadata": {},
   "outputs": [],
   "source": [
    "# starting to try to work data in a way thats good for graphs\n",
    "for_graph = olympics_final_df"
   ]
  },
  {
   "cell_type": "code",
   "execution_count": null,
   "id": "86c41507",
   "metadata": {},
   "outputs": [],
   "source": [
    "#simplify drop a bunch of coloums\n",
    "for_graph = for_graph.drop(['City', 'Year','Season', 'Country Code', 'Indicator Name',\n",
    "       'Indicator Code', '2019', '2020'], axis=1)"
   ]
  },
  {
   "cell_type": "code",
   "execution_count": null,
   "id": "e7173496",
   "metadata": {},
   "outputs": [],
   "source": [
    "for_graph.set_index('Country')"
   ]
  },
  {
   "cell_type": "code",
   "execution_count": null,
   "id": "431ca50e",
   "metadata": {},
   "outputs": [],
   "source": [
    "for_graph = for_graph.astype(dict.fromkeys(for_graph.columns[1:25], float))"
   ]
  },
  {
   "cell_type": "code",
   "execution_count": null,
   "id": "3cce2241",
   "metadata": {},
   "outputs": [],
   "source": [
    "#figureout how to do a for loop for this\n",
    "# do pct chabfe for each and also fill in the first cell since it will be NA\n",
    "\n",
    "#summer game\n",
    "uk = for_graph.iloc[0]\n",
    "uk_years = uk[1 : 25]\n",
    "uk_pct_hoststart = uk[18: 22].pct_change() * 100 \n",
    "uk_pct_hoststart = uk_pct_hoststart.fillna(0)\n",
    "\n",
    "#winter game\n",
    "usa_1 = for_graph.iloc[1]\n",
    "usa_1_years = usa_1[1 : 25]\n",
    "usa_1_pct_hoststart = usa_1[8: 12].pct_change() * 100\n",
    "usa_1_pct_hoststart = usa_1_pct_hoststart.fillna(0)\n",
    "\n",
    "#summer game\n",
    "aus = for_graph.iloc[2]\n",
    "aus_years = aus[1 : 25]\n",
    "aus_pct_hoststart = aus[6 : 10].pct_change() * 100\n",
    "aus_pct_hoststart = aus_pct_hoststart.fillna(0) \n",
    "\n",
    "#summer game\n",
    "usa_2 = for_graph.iloc[3]\n",
    "usa_2_years = usa_2[1 : 25]\n",
    "usa_2_pct_hoststart = usa_2[2: 6].pct_change() * 100\n",
    "usa_2_pct_hoststart = usa_2_pct_hoststart.fillna(0)\n",
    "\n",
    "#winter game\n",
    "rus = for_graph.iloc[4]\n",
    "rus_years = rus[1 : 25]\n",
    "rus_pct_hoststart = rus[20 : 24].pct_change() * 100\n",
    "rus_pct_hoststart = rus_pct_hoststart.fillna(0)\n",
    "\n",
    "#winter game\n",
    "jap = for_graph.iloc[5]\n",
    "jap_years = jap[1 : 25]\n",
    "jap_pct_hoststart = jap[4 : 8].pct_change() * 100\n",
    "jap_pct_hoststart = jap_pct_hoststart.fillna(0)\n",
    "\n",
    "#winter game\n",
    "ita = for_graph.iloc[6]\n",
    "ita_years = ita[1 : 25]\n",
    "ita_pct_hoststart = ita[12 : 16].pct_change() * 100\n",
    "ita_pct_hoststart = ita_pct_hoststart.fillna(0)\n",
    "\n",
    "#summer game\n",
    "chi = for_graph.iloc[7]\n",
    "chi_years = chi[1 : 25]\n",
    "chi_pct_hoststart = chi[14 : 18].pct_change() * 100\n",
    "chi_pct_hoststart = chi_pct_hoststart.fillna(0)\n",
    "\n",
    "#summer game\n",
    "bra = for_graph.iloc[8]\n",
    "bra_years = bra[1 : 25]\n",
    "bra_pct_hoststart = bra[22 : 26].pct_change() * 100\n",
    "bra_pct_hoststart = bra_pct_hoststart.fillna(0)\n",
    "\n",
    "#winter game\n",
    "can = for_graph.iloc[9]\n",
    "can_years = can[1 : 25]\n",
    "can_pct_hoststart = can[16 : 20].pct_change() * 100\n",
    "can_pct_hoststart = can_pct_hoststart.fillna(0)\n"
   ]
  },
  {
   "cell_type": "code",
   "execution_count": null,
   "id": "ea8837bc",
   "metadata": {},
   "outputs": [],
   "source": [
    "#pecercent change graph of when each country hosted the oylmpics\n",
    "x_axis = range(len(uk_pct_hoststart)) \n",
    "\n",
    "\n",
    "plt.plot(x_axis, ita_pct_hoststart)\n",
    "plt.plot(x_axis, can_pct_hoststart)\n",
    "plt.plot(x_axis, usa_1_pct_hoststart)\n",
    "plt.plot(x_axis, jap_pct_hoststart)\n",
    "plt.plot(x_axis, rus_pct_hoststart)\n",
    "\n",
    "plt.legend(['Italy 2006','Canada 2010','USA 2002','Japan 1998', 'Russia 2014'],\n",
    "           loc='center left', bbox_to_anchor=(1, 0.82))\n",
    "\n",
    "plt.title(\"Winter Olympic Games\")\n",
    "plt.ylabel(\"Percent Change %\")\n",
    "plt.xlabel(\"Years Since Hosting\")\n",
    "plt.savefig(\"graphs_Timmy/pct_change_winter\")\n",
    "plt.show()"
   ]
  },
  {
   "cell_type": "code",
   "execution_count": null,
   "id": "e5ef2ecf",
   "metadata": {},
   "outputs": [],
   "source": [
    "#fillin in the last value because it isnt worthing throuwing out that row\n",
    "bra_pct_hoststart[\"2019\"] = np.nan\n",
    "bra_pct_hoststart = bra_pct_hoststart.fillna(method=\"ffill\")"
   ]
  },
  {
   "cell_type": "code",
   "execution_count": null,
   "id": "a4f088d0",
   "metadata": {},
   "outputs": [],
   "source": [
    "#pecercent change graph of when each country hosted the oylmpics\n",
    "plt.plot(x_axis, uk_pct_hoststart)\n",
    "plt.plot(x_axis, aus_pct_hoststart)\n",
    "plt.plot(x_axis, usa_2_pct_hoststart)\n",
    "plt.plot(x_axis, chi_pct_hoststart)\n",
    "plt.plot(x_axis, bra_pct_hoststart)\n",
    "\n",
    "plt.legend(['United Kingdom 2012','Australia 2000','USA 1996','China 2008', 'Brazil 2016'],\n",
    "           loc='center left', bbox_to_anchor=(1, 0.82))\n",
    "\n",
    "plt.title(\"Summer Olympic Games\")\n",
    "plt.ylabel(\"Percent Change %\")\n",
    "plt.xlabel(\"Years Since Hosting\")\n",
    "plt.savefig(\"graphs_Timmy/pct_change_summer\")\n",
    "plt.show()"
   ]
  },
  {
   "cell_type": "code",
   "execution_count": null,
   "id": "5f9e01f3",
   "metadata": {},
   "outputs": [],
   "source": [
    "years = [int(i) for i in for_graph.iloc[:,1:].columns.tolist()]\n",
    "years_early = [int(i) for i in for_graph.iloc[:,1:].columns.tolist()]\n",
    "\n",
    "#years.drop(years.index[[1,2,3,4,5,6,7,8,9,10,11]], inplace=True)\n",
    "#del years[0:13]\n",
    "del years_early[13:25]\n"
   ]
  },
  {
   "cell_type": "code",
   "execution_count": null,
   "id": "25963be1",
   "metadata": {},
   "outputs": [],
   "source": [
    "china = for_graph.iloc[7]\n",
    "china_postyears = china[14 : 25]\n",
    "china_preyears = china[1 : 14]\n",
    "china_pct_hoststart = china[13 : 25].pct_change() * 100\n"
   ]
  },
  {
   "cell_type": "code",
   "execution_count": null,
   "id": "432981ad",
   "metadata": {},
   "outputs": [],
   "source": [
    "china_preyears = china_preyears.astype(float)\n",
    "china_postyears = china_postyears.astype(float)\n",
    "\n"
   ]
  },
  {
   "cell_type": "code",
   "execution_count": null,
   "id": "d95cba04",
   "metadata": {},
   "outputs": [],
   "source": [
    "#neccsary\n",
    "years = years[0:24]\n",
    "    \n",
    "years_ints = []\n",
    "for item in years:\n",
    "    years_ints.append(int(item))\n",
    "\n",
    "china = china[1:25]\n",
    "\n",
    "china_ints = []\n",
    "for x in china:\n",
    "    china_ints.append(int(x))"
   ]
  },
  {
   "cell_type": "code",
   "execution_count": null,
   "id": "28ef4fcc",
   "metadata": {},
   "outputs": [],
   "source": [
    "#when in doubt put it in a new dataframe, helpgul tip the rows must match\n",
    "china_df = pd.DataFrame({\"Total Years\":years_ints, \n",
    "                        \"Total Departs\":china_ints})\n",
    "\n"
   ]
  },
  {
   "cell_type": "code",
   "execution_count": null,
   "id": "a4444111",
   "metadata": {},
   "outputs": [],
   "source": [
    "\n",
    "\n",
    "early_years = china_df['Total Years'][0:13]\n",
    "early_departs = china_df['Total Departs'][0:13]\n",
    "\n",
    "post_years = china_df['Total Years'][14:24]\n",
    "post_departs = china_df['Total Departs'][14:24]\n"
   ]
  },
  {
   "cell_type": "code",
   "execution_count": null,
   "id": "f9d8f202",
   "metadata": {},
   "outputs": [],
   "source": [
    "x_values = china_df['Total Years']\n",
    "y_values = china_df['Total Departs']\n",
    "\n",
    "\n",
    "plt.scatter(x_values, y_values, marker = \"o\", color = \"blue\",edgecolor = \"black\")\n",
    "\n",
    "#overall\n",
    "(slope, intercept, rvalue, pvalue, stderr) = linregress(x_values, y_values)\n",
    "regress_values = x_values * slope + intercept\n",
    "line_eq = \"y = \" + str(round(slope,2)) + \"x + \" + str(round(intercept,2))\n",
    "\n",
    "#early years1\n",
    "(slope1, intercept1, rvalue1, pvalue1, stderr1) = linregress(early_years, early_departs)\n",
    "regress_values1 = early_years * slope1 + intercept1\n",
    "line_eq1 = \"y = \" + str(round(slope,2)) + \"x + \" + str(round(intercept,2))\n",
    "\n",
    "#later years 2\n",
    "(slope2, intercept2, rvalue2, pvalue2, stderr2) = linregress(post_years, post_departs)\n",
    "regress_values2 = post_years * slope2 + intercept2\n",
    "line_eq2 = \"y = \" + str(round(slope,2)) + \"x + \" + str(round(intercept,2))\n",
    "\n",
    "\n",
    "#plt.scatter(x_values,y_values)\n",
    "plt.plot(x_values,regress_values,\"g-\")\n",
    "plt.plot(early_years,regress_values1,\"r-\")\n",
    "plt.plot(post_years,regress_values2,\"b-\")\n",
    "\n",
    "plt.grid()\n",
    "plt.xlabel(\"Years\")\n",
    "plt.ylabel(\"Departures from China(mil)\")\n",
    "plt.title(\"Trend Line\")\n",
    "plt.savefig(\"graphs_Timmy/China_rate_change\")\n",
    "plt.show()"
   ]
  },
  {
   "cell_type": "code",
   "execution_count": null,
   "id": "43551c76",
   "metadata": {},
   "outputs": [],
   "source": [
    "round(slope2)/round(slope1)"
   ]
  },
  {
   "cell_type": "markdown",
   "id": "06b0b1b4",
   "metadata": {},
   "source": [
    "   The Olympics is a massive international event that brings together around two hundred countries for an exciting \n",
    "two weeks of athletic events. However, our thesis states that hosting the Olympics has much bigger effects that \n",
    "go past just the two week period. My section is focused on how it impacts the citizens of the host country, \n",
    "specifically in the focus of tourism. We chose to focus on tourism because one of the underlying messages of \n",
    "the Olympics is of unity, of exploration, and to push oneself. This emphasis is more hypothetically more heavily felt \n",
    "by the host countries citizens that are seeing the best of their own country on this international stage. The impact \n",
    "should be a noticeable increase in citizens going on international trips to visit other countries, since they were \n",
    "inspired to explore the world. In the following paragraph we shall see if this holds up, and how I worked through the\n",
    "data to find said results.\n",
    "   I’ve learned that cleaning the data, and completely understanding is not only fundamental to analyzing data, but also fascinating. The routes each of us took and branched from to find answers for each of our own questions shows the flexibility and the power of this first crucial step to analyzing any data. I digress, the main highlights, are whittling down the massive olympics data to only have the city, the country, the year, and season of the game for the past hundred years, which is forty-two places. Then by merging left and constricting for the years on when we have information on the number of departures, which results to ten cities from 1995 to 2018. Perfectly, that leaves us with five Winter Olympic Games and five Summer Olympic Games to analyze. To graph some of the data I discovered. I focused one section at looking at all the summer and winter games on their own graphs, and I believe the best way to visualize the changes over time would be a multi line graph to compare the trajectories in a succinct way. The best way is to have the year of each country hosting as the start date and then make the each timeline relative to it’s own growth, so I decided to make this graph focus on the percent change for the next three years to see if there was an increase or decrease in departures. What I found seems to be slightly positive to an increase in departures post hosting the Olympics, however it’s more inconclusive, since the results are generally all over the place without any similar patterns matching up. Which is frustrating, but fair since, the world is a complex place and not everything is going to be so simple for a cause and effect.\n",
    "   The second graph, I decided to focus on one country and see if a linear regression could be insightful to see if the rate of departures changed from pre hosting the Olympics to post. I chose China as the candidate because in just a few months it will be hosting the Olympics again, so it would be fun to see if any the linear regression would still hold true. (Though with the pandemic about, probably not.) I created the linear regressions and found the slope after hosting was three point nine times the rate of departures before hosting the Olympics. This could be a strong result for use to be able to slightly reject the null hypothesis.\n",
    "   This increase of international tourism and travel can be from the impact the Olympic Games had on individual people as well as corporations to pursue connections outside of China. As China is one of the booming economies the more business fields the countries companies can partner with the more travel to said countries would most likely follow. That is just one of several reasons why the departure rate increased, still I’m happy that we can reject the null hypothesis in some capacity!"
   ]
  },
  {
   "cell_type": "code",
   "execution_count": null,
   "id": "4a097d45",
   "metadata": {},
   "outputs": [],
   "source": [
    "#Timmy end here"
   ]
  },
  {
   "cell_type": "code",
   "execution_count": null,
   "id": "0831b694",
   "metadata": {},
   "outputs": [],
   "source": [
    "#Raj start here (Question 3)"
   ]
  },
  {
   "cell_type": "code",
   "execution_count": null,
   "id": "4aadd936",
   "metadata": {},
   "outputs": [],
   "source": [
    "#Raj end here"
   ]
  },
  {
   "cell_type": "code",
   "execution_count": null,
   "id": "1b0aee1d",
   "metadata": {},
   "outputs": [],
   "source": [
    "#Fatma start here (Question 4)"
   ]
  },
  {
   "cell_type": "markdown",
   "id": "3e171bb7",
   "metadata": {},
   "source": [
    "IS THERE A STATISTICALLY SIGNIFICANT DIFFERENCE BETWEEN MEDALS WON PRIOR TO HOSTING OLYMPICS AND AFTER HOSTING?"
   ]
  },
  {
   "cell_type": "code",
   "execution_count": null,
   "id": "d9db5829",
   "metadata": {},
   "outputs": [],
   "source": [
    "# quick look on olympics data\n",
    "olympics_df.head()"
   ]
  },
  {
   "cell_type": "code",
   "execution_count": null,
   "id": "033a58e4",
   "metadata": {},
   "outputs": [],
   "source": [
    "# look at host cities data\n",
    "host_cities_df\n",
    "\n",
    "# Clean up misspelled words in the dataframe"
   ]
  },
  {
   "cell_type": "markdown",
   "id": "59d23aca",
   "metadata": {},
   "source": [
    "DATA CLEAN-UP"
   ]
  },
  {
   "cell_type": "code",
   "execution_count": null,
   "id": "dcf08b23",
   "metadata": {},
   "outputs": [],
   "source": [
    "# get only the city and country column from the host city data\n",
    "host_cities_df = host_cities_df[[\"City\", \"Country\"]]\n",
    "host_cities_df.head()\n",
    "\n",
    "# find the unique city and country names in the host city data frame, and use them to correct spelling mistakes\n",
    "z=host_cities_df[\"City\"].unique()\n",
    "y=host_cities_df[\"Country\"].unique()\n",
    "z\n",
    "y"
   ]
  },
  {
   "cell_type": "code",
   "execution_count": null,
   "id": "3632cf61",
   "metadata": {},
   "outputs": [],
   "source": [
    "#replace the west germany and nazi germany with germany and soviet union with russia in the host_cities file\n",
    "\n",
    "host_cities_df = host_cities_df.replace({'Germnay' : 'Germany', 'West Germany': 'Germany', 'Nazi Germany': 'Germany' , 'Soviet Union' : 'Russia'})\n",
    "\n",
    "#replace the misspelled city names with the correct ones based on the host cities file\n",
    "\n",
    "olympics_c_df= olympics_df.replace({'Athina':'Athens', 'Antwerpen':'Antwerp', 'Sankt Moritz':'St. Moritz', 'Roma':'Rome', 'Moskva':'Moscow', 'Torino':'Turin'})\n",
    "\n",
    "#merge olympics and host cities data\n",
    "\n",
    "olympics_country_df = pd.merge(olympics_c_df, host_cities_df, how=\"left\", on=[\"City\"])\n",
    "\n",
    "# remove duplicates from olympics data\n",
    "olympics_country_df = olympics_country_df.drop_duplicates()\n",
    "\n",
    "# look at data quickly\n",
    "olympics_country_df.head()"
   ]
  },
  {
   "cell_type": "code",
   "execution_count": null,
   "id": "9229b0a0",
   "metadata": {},
   "outputs": [],
   "source": [
    "# leave only the columns that are relevant to the analysis\n",
    "olympics_country_df = olympics_country_df[[\"Name\", \"Team\", \"Year\", \"Season\", \"Sport\", \"Event\", \"Medal\", \"Country\"]]\n",
    "olympics_country_df.shape"
   ]
  },
  {
   "cell_type": "code",
   "execution_count": null,
   "id": "697dd499",
   "metadata": {},
   "outputs": [],
   "source": [
    "# check if any NaN is left in the Country column. Shape should be equal to olympics_country_df.if there is no NaN left nothing \n",
    "# will drop and the row numbers should stay same.\n",
    "x = olympics_country_df.dropna(subset=[\"Country\"])\n",
    "x.shape\n",
    "\n",
    "# The medal column has NaN for no medal won. Replace all with 0"
   ]
  },
  {
   "cell_type": "code",
   "execution_count": null,
   "id": "0436f1b4",
   "metadata": {},
   "outputs": [],
   "source": [
    "# replace all the NaN in the Medal column with 0\n",
    "values = {\"Medal\" : 0}\n",
    "olympics_country_df = olympics_country_df.fillna(value=values)\n",
    "olympics_country_df = pd.DataFrame(olympics_country_df)\n",
    "olympics_country_df.head()\n",
    "\n",
    "# Make a dataframe that shows only teams for the years they hosted and remove any rows when no medal was won"
   ]
  },
  {
   "cell_type": "markdown",
   "id": "7ae8a276",
   "metadata": {},
   "source": [
    "CREATE A NEW DATAFRAME THAT INCLUDES INFORMATION ONLY ABOUT THE HOSTING COUNTRY THE YEAR THEY HOSTED"
   ]
  },
  {
   "cell_type": "code",
   "execution_count": null,
   "id": "fdc9e9d6",
   "metadata": {},
   "outputs": [],
   "source": [
    "# Make a new df where the team is from the host country\n",
    "\n",
    "host_team = olympics_country_df.loc[olympics_country_df[\"Team\"] == olympics_country_df[\"Country\"]]\n",
    "host_team.head()"
   ]
  },
  {
   "cell_type": "code",
   "execution_count": null,
   "id": "6a5605e1",
   "metadata": {},
   "outputs": [],
   "source": [
    "# remove the columns with no medal win\n",
    "\n",
    "medal_win = host_team.loc[host_team[\"Medal\"] != 0]\n",
    "\n",
    "# drop any duplicate row if there is any\n",
    "medal_win = medal_win.dropna()\n",
    "\n",
    "# keep only columns of interest\n",
    "medal_win = medal_win[[ \"Team\", \"Year\", \"Medal\"]]"
   ]
  },
  {
   "cell_type": "code",
   "execution_count": null,
   "id": "f054c060",
   "metadata": {},
   "outputs": [],
   "source": [
    "# how many medals host countries won, do groupby\n",
    "\n",
    "medal_win_host = medal_win.groupby([\"Team\", \"Year\"]).count()\n",
    "medal_win_host\n",
    "\n",
    "# reset index \n",
    "\n",
    "host_year_medal_count = medal_win_host.reset_index()\n",
    "host_year_medal_count.head()"
   ]
  },
  {
   "cell_type": "code",
   "execution_count": null,
   "id": "d65d7cbf",
   "metadata": {},
   "outputs": [],
   "source": [
    "# from my corrected host cities dataframe find the unique countries\n",
    "host_countries = host_cities_df[\"Country\"].unique()\n",
    "host_countries\n",
    "\n",
    "\n",
    "# Make a dataframe that shows all the teams that hosted olympics anytime, remove rows when no medal was won, count the total medal won for that country in that year"
   ]
  },
  {
   "cell_type": "markdown",
   "id": "bf080dba",
   "metadata": {},
   "source": [
    "CREATE A NEW DATAFRAME WITH TEAMS THAT HOSTED THE OLYMPICS AT ANY TIMES"
   ]
  },
  {
   "cell_type": "code",
   "execution_count": null,
   "id": "a877d5d9",
   "metadata": {},
   "outputs": [],
   "source": [
    "# clean the olympics dataframe only that it has teams that were also hosts at anytime during the olympics\n",
    "\n",
    "only_teams_that_hosted = olympics_country_df[olympics_country_df[\"Team\"].isin(olympics_country_df[\"Country\"])]\n",
    "only_teams_that_hosted.head()"
   ]
  },
  {
   "cell_type": "code",
   "execution_count": null,
   "id": "dcb1bb00",
   "metadata": {},
   "outputs": [],
   "source": [
    "d =only_teams_that_hosted.groupby([\"Team\", \"Year\"]).count()\n",
    "finland = d.loc[\"Finland\"]\n",
    "finland.plot.bar(y=\"Medal\", title=\"Olympics Participation from Finland\")\n",
    "plt.show()"
   ]
  },
  {
   "cell_type": "code",
   "execution_count": null,
   "id": "e6d8a0b8",
   "metadata": {},
   "outputs": [],
   "source": [
    "#remove the columns with no medal win\n",
    "\n",
    "medal_win_by_team = only_teams_that_hosted.loc[only_teams_that_hosted[\"Medal\"] != 0]\n",
    "medal_win_by_team = medal_win_by_team.dropna()\n",
    "\n",
    "#this is different from the medal win dataframe in that this one includes all the years the hosting country participated\n",
    "#keep only relevant columns\n",
    "\n",
    "medal_win_by_team = medal_win_by_team[[\"Team\", \"Year\", \"Medal\"]]"
   ]
  },
  {
   "cell_type": "code",
   "execution_count": null,
   "id": "323e3fa7",
   "metadata": {},
   "outputs": [],
   "source": [
    "# group by team and count the medal wins of the team during the entire time (not only when it is host)\n",
    "\n",
    "year_medal_count = medal_win_by_team.groupby([\"Team\", \"Year\"]).count()\n",
    "year_medal_count.head()\n",
    "\n",
    "\n",
    "# Make bar graphs showing how many medals each contry won. Color the year of hosting red"
   ]
  },
  {
   "cell_type": "markdown",
   "id": "60f836f9",
   "metadata": {},
   "source": [
    "MAKE BAR GRAPHS SHOWING MEDAL COUNTS FOR HOST COUNTRIES THROUGHOUT THE YEARS"
   ]
  },
  {
   "cell_type": "code",
   "execution_count": null,
   "id": "cb7e3ba0",
   "metadata": {},
   "outputs": [],
   "source": [
    "# for loop for each team \n",
    "\n",
    "team = only_teams_that_hosted[\"Team\"].unique()\n",
    "team = team.tolist()\n",
    "team\n",
    "\n",
    "for team in team:\n",
    "    \n",
    "    teams = year_medal_count.loc[team]\n",
    "    \n",
    "    bar = host_year_medal_count.loc[host_year_medal_count[\"Team\"] == team ][\"Year\"].tolist()\n",
    "    \n",
    "    colors = [\"red\" if x in bar else \"yellow\" for x in teams.index]\n",
    "    \n",
    "    teams.plot.bar(y=\"Medal\", title=f\"Olympic medal counts for {team} \", color=colors)\n",
    "  \n",
    "    plt.show()\n",
    "    \n",
    "    \n",
    "\n",
    "\n"
   ]
  },
  {
   "cell_type": "markdown",
   "id": "ef4f2c42",
   "metadata": {},
   "source": [
    "DO THE GRAPHS AND HYPOTHESIS TESTING FOR SUMMER OLYMPIC ONLY "
   ]
  },
  {
   "cell_type": "code",
   "execution_count": null,
   "id": "64d632b9",
   "metadata": {},
   "outputs": [],
   "source": [
    "# get the medal wins only for summer olympics for host teams\n",
    "\n",
    "\n",
    "summer_wins = host_team.loc[host_team[\"Medal\"] != 0]\n",
    "summer_wins = summer_wins.dropna()\n",
    "summer_wins\n",
    "\n",
    "summer_wins = summer_wins.loc[summer_wins[\"Season\"] == \"Summer\"]\n",
    "summer_wins = summer_wins[[ \"Team\", \"Year\", \"Medal\"]]\n",
    "summer_wins"
   ]
  },
  {
   "cell_type": "code",
   "execution_count": null,
   "id": "e6565b56",
   "metadata": {},
   "outputs": [],
   "source": [
    "# medal counts for teams during hosting\n",
    "summer_win_host = summer_wins.groupby([\"Team\", \"Year\"]).count()\n",
    "summer_win_host\n",
    "\n",
    "host_year_medal_count_summer = summer_win_host.reset_index()\n",
    "host_year_medal_count_summer.head()"
   ]
  },
  {
   "cell_type": "code",
   "execution_count": null,
   "id": "4590c047",
   "metadata": {},
   "outputs": [],
   "source": [
    "# divide the only teams that hosted dataframe into summer\n",
    "\n",
    "only_teams_that_hosted_summer = only_teams_that_hosted.loc[only_teams_that_hosted[\"Season\"] == \"Summer\"]\n",
    "only_teams_that_hosted_summer.head()"
   ]
  },
  {
   "cell_type": "code",
   "execution_count": null,
   "id": "e9be124f",
   "metadata": {},
   "outputs": [],
   "source": [
    "#remove the columns with no medal win\n",
    "\n",
    "medal_win_by_team_summer = only_teams_that_hosted_summer.loc[only_teams_that_hosted_summer[\"Medal\"] != 0]\n",
    "medal_win_by_team_summer= medal_win_by_team_summer.dropna()\n",
    "medal_win_by_team_summer = medal_win_by_team_summer[[\"Team\", \"Year\", \"Medal\"]]"
   ]
  },
  {
   "cell_type": "code",
   "execution_count": null,
   "id": "7db24432",
   "metadata": {},
   "outputs": [],
   "source": [
    "# group by team and count the medal wins of the team during the entire time (not only when it is host)\n",
    "\n",
    "year_medal_count_summer = medal_win_by_team_summer.groupby([\"Team\", \"Year\"]).count()\n",
    "year_medal_count_summer.head()"
   ]
  },
  {
   "cell_type": "code",
   "execution_count": null,
   "id": "9ea45c72",
   "metadata": {},
   "outputs": [],
   "source": [
    "# for loop for each team \n",
    "\n",
    "team = only_teams_that_hosted_summer[\"Team\"].unique()\n",
    "team = team.tolist()\n",
    "team\n",
    "\n",
    "for team in team:\n",
    "    \n",
    "    teams = year_medal_count_summer.loc[team]\n",
    "    \n",
    "    bar = host_year_medal_count_summer.loc[host_year_medal_count_summer[\"Team\"] == team ][\"Year\"].tolist()\n",
    "    \n",
    "    colors = [\"red\" if x in bar else \"yellow\" for x in teams.index]\n",
    "    \n",
    "    teams.plot.bar(y=\"Medal\", title=f\"Olympic medal counts for {team} \", color=colors)\n",
    "    \n",
    "    plt.show()\n",
    "    \n",
    "\n",
    "\n",
    "# Calculate Ttest for checking the null hypothesis that states \"The mean medal win for a country before and after hosting the Olympics is NOT different\""
   ]
  },
  {
   "cell_type": "markdown",
   "id": "c133fe2f",
   "metadata": {},
   "source": [
    "HYPOTHESIS TESTING"
   ]
  },
  {
   "cell_type": "markdown",
   "id": "ba87d76a",
   "metadata": {},
   "source": [
    "Null Hypothesis :For countries that hosted the olympics the average medal counts are the same before and after being the host "
   ]
  },
  {
   "cell_type": "code",
   "execution_count": null,
   "id": "5db51afd",
   "metadata": {},
   "outputs": [],
   "source": [
    "# create a list of dataframes that will show the country, year they played and medals they won\n",
    "# first remove all countries that hosted for more than ones. \n",
    "\n",
    "j =year_medal_count_summer.reset_index()\n",
    "t= host_year_medal_count_summer\n",
    "\n",
    "\n",
    "t[\"Team\"].value_counts() == 1\n",
    "r = t.drop_duplicates(subset = \"Team\", keep=False)\n",
    "r\n",
    "\n",
    "# make a list that contains these countries\n",
    "team_summer = r[\"Team\"].tolist()"
   ]
  },
  {
   "cell_type": "code",
   "execution_count": null,
   "id": "00f0f3b5",
   "metadata": {},
   "outputs": [],
   "source": [
    "# now make a for loop that will show the country and medal wins the years after they hosted.\n",
    "team_list_after = []\n",
    "\n",
    "for team in team_summer:\n",
    "    \n",
    "    df = j.loc[(j[\"Team\"] == team) & (j[\"Year\"] > r[r['Team']==team]['Year'].values[0])]\n",
    "    team_list_after.append(df)\n",
    "    \n",
    "    \n",
    "    \n",
    "team_list_after[0]"
   ]
  },
  {
   "cell_type": "code",
   "execution_count": null,
   "id": "8e3d2f1e",
   "metadata": {},
   "outputs": [],
   "source": [
    "# now make a for loop that will show the country and medal wins the years before they hosted.\n",
    "\n",
    "\n",
    "team_list_before = []\n",
    "\n",
    "for team in team_summer:\n",
    "    \n",
    "    df = j.loc[(j[\"Team\"] == team) & (j[\"Year\"] < r[r['Team']==team]['Year'].values[0])]\n",
    "    team_list_before.append(df)\n",
    "    \n",
    "    \n",
    "    \n",
    "team_list_before[0][\"Medal\"]"
   ]
  },
  {
   "cell_type": "code",
   "execution_count": null,
   "id": "984f957a",
   "metadata": {
    "scrolled": true
   },
   "outputs": [],
   "source": [
    "# calculate t test for each country data obtained from the for loops above\n",
    "#make a for loop for each team\n",
    "\n",
    "teams = []\n",
    "for i in range(len(team_list_after)):\n",
    "\n",
    "    test = stats.ttest_ind(team_list_after[i].Medal, team_list_before[i].Medal, equal_var=False)\n",
    "    teamss = team_list_after[i][\"Team\"].unique().tolist()\n",
    "    teams.append(teamss)\n",
    "    \n",
    "    print(f\"Ttest result for {teams[i]}: {test}\")\n",
    "\n",
    "# We were able to reject our null hypothesis for Belgium, Canada, China, Finland, Germany,Japan, Netherlands, South Korea and Spain. \n",
    "# We failed to reject the null hypothesis for Italy and Mexico.\n",
    "# We did not have enough data to perform the test on Brazil."
   ]
  },
  {
   "cell_type": "markdown",
   "id": "3bac6378",
   "metadata": {},
   "source": [
    "CHECK WHETHER THE DECREASE IN MEDAL COUNTS IN FINLAND IS DUE TO DECREASED PARTICIPATION "
   ]
  },
  {
   "cell_type": "markdown",
   "id": "1bb27b94",
   "metadata": {},
   "source": [
    "Null hypothesis : The average of athletes that participated in the olympics from Finland is the same before and after Finland hosted the olympics"
   ]
  },
  {
   "cell_type": "code",
   "execution_count": null,
   "id": "9ab4a1c0",
   "metadata": {},
   "outputs": [],
   "source": [
    "d =only_teams_that_hosted_summer.groupby([\"Team\", \"Year\"]).count()\n",
    "finland = d.loc[\"Finland\"]\n",
    "finland.plot.bar(y=\"Medal\", title=\"Olympics Participation from Finland\")\n",
    "plt.show()\n",
    "finland\n"
   ]
  },
  {
   "cell_type": "code",
   "execution_count": null,
   "id": "9902af5c",
   "metadata": {},
   "outputs": [],
   "source": [
    "participation_before = finland.loc[(finland.index < 1952)]\n",
    "\n",
    "participation_after = finland.loc[(finland.index > 1952)]\n",
    "\n",
    "ttest = stats.ttest_ind(participation_before.Medal, participation_after.Medal, equal_var=False)\n",
    "ttest\n",
    "\n",
    "print(\"We failed to reject the null hypothesis. Therefor we cannot say the average participation was different before and after 1952\")"
   ]
  },
  {
   "cell_type": "markdown",
   "id": "b4e52d48",
   "metadata": {},
   "source": [
    "We were able to reject our null hypothesis for Belgium, Canada, China, Finland, Germany,Japan, Netherlands, South Korea and Spain. \n",
    "We failed to reject the null hypothesis for Italy and Mexico.\n",
    "We did not have enough data to perform the test on Brazil.\n",
    "The decrease of Finland's Medal counts does not seem to be due to a decrease in participation."
   ]
  },
  {
   "cell_type": "code",
   "execution_count": null,
   "id": "13e24274",
   "metadata": {},
   "outputs": [],
   "source": [
    "#Fatma end here"
   ]
  }
 ],
 "metadata": {
  "kernelspec": {
   "display_name": "Python 3",
   "language": "python",
   "name": "python3"
  },
  "language_info": {
   "codemirror_mode": {
    "name": "ipython",
    "version": 3
   },
   "file_extension": ".py",
   "mimetype": "text/x-python",
   "name": "python",
   "nbconvert_exporter": "python",
   "pygments_lexer": "ipython3",
   "version": "3.8.8"
  }
 },
 "nbformat": 4,
 "nbformat_minor": 5
}
