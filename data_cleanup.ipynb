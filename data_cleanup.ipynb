{
 "cells": [
  {
   "cell_type": "code",
   "execution_count": null,
   "id": "2034c694",
   "metadata": {},
   "outputs": [],
   "source": [
    "#Import dependencies \n",
    "import pandas as pd\n",
    "import numpy as np\n",
    "import matplotlib.pyplot as plt"
   ]
  },
  {
   "cell_type": "code",
   "execution_count": null,
   "id": "b4ac7d78",
   "metadata": {},
   "outputs": [],
   "source": [
    "#Read the csv files\n",
    "olympics_df = pd.read_csv('Resources/athlete_events.csv')\n",
    "arrivals_df = pd.read_csv('Resources/INT.ARVL.csv')\n",
    "departures_df = pd.read_csv('Resources/INT.DPRT.csv')\n",
    "expenditures_df = pd.read_csv('Resources/INT.XPND.csv')"
   ]
  },
  {
   "cell_type": "code",
   "execution_count": null,
   "id": "7c773b74",
   "metadata": {},
   "outputs": [],
   "source": [
    "olympics_df.head()"
   ]
  },
  {
   "cell_type": "code",
   "execution_count": null,
   "id": "58a48a10",
   "metadata": {},
   "outputs": [],
   "source": [
    "arrivals_df.head()"
   ]
  },
  {
   "cell_type": "code",
   "execution_count": null,
   "id": "4e8ede56",
   "metadata": {},
   "outputs": [],
   "source": [
    "departures_df.head() "
   ]
  },
  {
   "cell_type": "code",
   "execution_count": null,
   "id": "c4828834",
   "metadata": {},
   "outputs": [],
   "source": [
    "expenditures_df.head()"
   ]
  },
  {
   "cell_type": "code",
   "execution_count": null,
   "id": "646bbafe",
   "metadata": {},
   "outputs": [],
   "source": []
  }
 ],
 "metadata": {
  "kernelspec": {
   "display_name": "Python 3",
   "language": "python",
   "name": "python3"
  },
  "language_info": {
   "codemirror_mode": {
    "name": "ipython",
    "version": 3
   },
   "file_extension": ".py",
   "mimetype": "text/x-python",
   "name": "python",
   "nbconvert_exporter": "python",
   "pygments_lexer": "ipython3",
   "version": "3.8.8"
  }
 },
 "nbformat": 4,
 "nbformat_minor": 5
}
