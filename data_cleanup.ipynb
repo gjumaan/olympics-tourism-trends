{
 "cells": [
  {
   "cell_type": "code",
fatma
   "execution_count": null,

   "execution_count": 1,
main
   "id": "2034c694",
   "metadata": {},
   "outputs": [],
   "source": [
    "#Import dependencies \n",
    "import pandas as pd\n",
    "import numpy as np\n",
    "import matplotlib.pyplot as plt\n",
    "import json\n",
    "import requests\n",
    "import scipy.stats as stats"
   ]
  },
  {
   "cell_type": "code",
fatma
   "execution_count": null,

   "execution_count": 2,
main
   "id": "b4ac7d78",
   "metadata": {},
   "outputs": [],
   "source": [
    "#Read the csv files\n",
    "olympics_df = pd.read_csv('Resources/athlete_events.csv')\n",
    "regions_df = pd.read_csv('Resources/noc_regions.csv')\n",
    "host_cities_df = pd.read_csv('Resources/olym.csv')\n",
    "arrivals_df = pd.read_csv('Resources/INT.ARVL.csv')\n",
    "departures_df = pd.read_csv('Resources/INT.DPRT.csv')\n",
    "expenditures_df = pd.read_csv('Resources/INT.XPND.csv')"
   ]
  },
  {
   "cell_type": "code",
   "execution_count": 3,
   "id": "646bbafe",
   "metadata": {},
   "outputs": [],
   "source": [
    "#Jumaan start here (Question 1)"
   ]
  },
  {
   "cell_type": "markdown",
   "id": "bec77fad",
   "metadata": {},
   "source": [
    "How is hosting the olympics affecting the tourism for a country in terms of international visitors and average/total expenditures?"
   ]
  },
  {
   "cell_type": "code",
   "execution_count": 4,
   "id": "0abfd0f1",
   "metadata": {},
   "outputs": [],
   "source": [
    "#Get the rows for the last 6 cities that hosted olympics\n",
    "filtered_data = host_cities_df.iloc[45:]\n",
    "\n",
    "#Get rid of unnecessary columns\n",
    "last_six_hosts = filtered_data[['City', 'Country', 'Year']]"
   ]
  },
  {
   "cell_type": "code",
   "execution_count": 5,
   "id": "0a847763",
   "metadata": {},
   "outputs": [],
   "source": [
    "#Rename country in arrivals dataset if different from host cities dataset\n",
    "arrivals_df = arrivals_df.replace('Russian Federation', 'Russia')\n",
    "\n",
    "#Rename column to allow merging\n",
    "arrivals_df = arrivals_df.rename(columns={'Country Name': 'Country'})"
   ]
  },
  {
   "cell_type": "code",
   "execution_count": 6,
   "id": "dffefc2b",
   "metadata": {},
   "outputs": [],
   "source": [
    "#Merge Datasets\n",
    "combined_df = last_six_hosts.merge(arrivals_df, on='Country', how='left')\n",
    "\n",
    "#Get rid of unnecessary columns\n",
    "combined_df = combined_df.drop(['Country Code', 'Indicator Name', 'Indicator Code'], axis=1)\n",
    "\n",
    "#Drop NaN columns\n",
    "combined_df = combined_df.dropna(axis=1)"
   ]
  },
  {
   "cell_type": "markdown",
   "id": "bc7315e8",
   "metadata": {},
   "source": [
    " Is there a statistically significant difference between medals won prior to hosting olympics and after hosting?"
   ]
  },
  {
   "cell_type": "code",
fatma
   "execution_count": null,
   "id": "9ad26fd8",
   "metadata": {},
   "outputs": [],
   "source": [
    "# quick look on olympics data\n",
    "\n",
    "olympics_df.head()"

   "execution_count": 7,
   "id": "65a8fafe",
   "metadata": {},
   "outputs": [
    {
     "data": {
      "text/html": [
       "<div>\n",
       "<style scoped>\n",
       "    .dataframe tbody tr th:only-of-type {\n",
       "        vertical-align: middle;\n",
       "    }\n",
       "\n",
       "    .dataframe tbody tr th {\n",
       "        vertical-align: top;\n",
       "    }\n",
       "\n",
       "    .dataframe thead th {\n",
       "        text-align: right;\n",
       "    }\n",
       "</style>\n",
       "<table border=\"1\" class=\"dataframe\">\n",
       "  <thead>\n",
       "    <tr style=\"text-align: right;\">\n",
       "      <th></th>\n",
       "      <th>Country</th>\n",
       "      <th>Host Year</th>\n",
       "      <th>Arrivals before Host Year</th>\n",
       "      <th>Arrivals on Host Year</th>\n",
       "      <th>Percent Change</th>\n",
       "    </tr>\n",
       "  </thead>\n",
       "  <tbody>\n",
       "    <tr>\n",
       "      <th>0</th>\n",
       "      <td>Italy</td>\n",
       "      <td>2006</td>\n",
       "      <td>36513000.0</td>\n",
       "      <td>41058000.0</td>\n",
       "      <td>12.447621</td>\n",
       "    </tr>\n",
       "    <tr>\n",
       "      <th>1</th>\n",
       "      <td>China</td>\n",
       "      <td>2008</td>\n",
       "      <td>54720000.0</td>\n",
       "      <td>53049000.0</td>\n",
       "      <td>-3.053728</td>\n",
       "    </tr>\n",
       "    <tr>\n",
       "      <th>2</th>\n",
       "      <td>Canada</td>\n",
       "      <td>2010</td>\n",
       "      <td>15737000.0</td>\n",
       "      <td>16219000.0</td>\n",
       "      <td>3.062846</td>\n",
       "    </tr>\n",
       "    <tr>\n",
       "      <th>3</th>\n",
       "      <td>United Kingdom</td>\n",
       "      <td>2012</td>\n",
       "      <td>29306000.0</td>\n",
       "      <td>29282000.0</td>\n",
       "      <td>-0.081894</td>\n",
       "    </tr>\n",
       "    <tr>\n",
       "      <th>4</th>\n",
       "      <td>Russia</td>\n",
       "      <td>2014</td>\n",
       "      <td>30792000.0</td>\n",
       "      <td>32421000.0</td>\n",
       "      <td>5.290335</td>\n",
       "    </tr>\n",
       "    <tr>\n",
       "      <th>5</th>\n",
       "      <td>Brazil</td>\n",
       "      <td>2016</td>\n",
       "      <td>6306000.0</td>\n",
       "      <td>6547000.0</td>\n",
       "      <td>3.821757</td>\n",
       "    </tr>\n",
       "  </tbody>\n",
       "</table>\n",
       "</div>"
      ],
      "text/plain": [
       "          Country  Host Year  Arrivals before Host Year  \\\n",
       "0           Italy       2006                 36513000.0   \n",
       "1           China       2008                 54720000.0   \n",
       "2          Canada       2010                 15737000.0   \n",
       "3  United Kingdom       2012                 29306000.0   \n",
       "4          Russia       2014                 30792000.0   \n",
       "5          Brazil       2016                  6306000.0   \n",
       "\n",
       "   Arrivals on Host Year  Percent Change  \n",
       "0             41058000.0       12.447621  \n",
       "1             53049000.0       -3.053728  \n",
       "2             16219000.0        3.062846  \n",
       "3             29282000.0       -0.081894  \n",
       "4             32421000.0        5.290335  \n",
       "5              6547000.0        3.821757  "
      ]
     },
     "execution_count": 7,
     "metadata": {},
     "output_type": "execute_result"
    }
   ],
   "source": [
    "#Create a function that calculates percent change\n",
    "def percent_change(value_1, value_2):\n",
    "    return (value_2 - value_1)/value_1 * 100\n",
    "\n",
    "#Create a new data frame that holds the host countries and the arrival data for the year prior to hosting and the year they hosted\n",
    "arrival_change_df = pd.DataFrame({\n",
    "    'Country': combined_df['Country'],\n",
    "    'Host Year': combined_df['Year'],\n",
    "    'Arrivals before Host Year': '',\n",
    "    'Arrivals on Host Year': '',\n",
    "    'Percent Change': ''\n",
    "    \n",
    "})\n",
    "\n",
    "arrival_data_prior_host_year = [combined_df.iloc[0, 13], combined_df.iloc[1, 15], combined_df.iloc[2, 17], \\\n",
    "                            combined_df.iloc[3, 19], combined_df.iloc[4, 21], combined_df.iloc[5, 23]]\n",
    "\n",
    "arrival_data_on_host_year = [combined_df.iloc[0, 14], combined_df.iloc[1, 16], combined_df.iloc[2, 18], \\\n",
    "                            combined_df.iloc[3, 20], combined_df.iloc[4, 22], combined_df.iloc[5, 24]]\n",
    "\n",
    "arrival_change_df['Arrivals before Host Year'] = arrival_data_prior_host_year\n",
    "\n",
    "arrival_change_df['Arrivals on Host Year'] = arrival_data_on_host_year\n",
    "\n",
    "arrival_change_df['Percent Change'] = percent_change(arrival_change_df['Arrivals before Host Year'], arrival_change_df['Arrivals on Host Year'])\n",
    "\n",
    "arrival_change_df"
main
   ]
  },
  {
   "cell_type": "code",
fatma
   "execution_count": null,
   "id": "2c7d2f86",
   "metadata": {},
   "outputs": [],
   "source": [
    "# look at host cities data\n",
    "host_cities_df.head()"
   ]
  },
  {
   "cell_type": "markdown",
   "id": "0b10791d",
   "metadata": {},
   "source": [
    "Clean up mispelled words in the dataframe"
   ]
  },
  {
   "cell_type": "code",
   "execution_count": null,
   "id": "4f1d9b0b",
   "metadata": {},
   "outputs": [],
   "source": [
    "# get only the city and country column from the host city data\n",
    "host_cities_df = host_cities_df[[\"City\", \"Country\"]]\n",
    "host_cities_df.head()\n",
    "\n",
    "# find the unique city and country names in the host city data frame, and use them to correct spelling mistakes\n",
    "z=host_cities_df[\"City\"].unique()\n",
    "y=host_cities_df[\"Country\"].unique()\n",
    "z\n",
    "y"

   "execution_count": 8,
   "id": "bc396675",
   "metadata": {},
   "outputs": [
    {
     "data": {
      "image/png": "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\n",
      "text/plain": [
       "<Figure size 1080x720 with 1 Axes>"
      ]
     },
     "metadata": {
      "needs_background": "light"
     },
     "output_type": "display_data"
    }
   ],
   "source": [
    "#Line graph for Arrivals\n",
    "\n",
    "#x-axis\n",
    "list_of_years = [int(i) for i in combined_df.iloc[:,13:].columns.tolist()]\n",
    "\n",
    "#y-axis\n",
    "italy_arrivals = combined_df.iloc[0,13:]\n",
    "china_arrivals = combined_df.iloc[1,13:]\n",
    "canada_arrivals = combined_df.iloc[2,13:]\n",
    "uk_arrivals = combined_df.iloc[3, 13:]\n",
    "russia_arrivals = combined_df.iloc[4, 13:]\n",
    "brazil_arrivals = combined_df.iloc[5, 13:]\n",
    "\n",
    "#set figure size\n",
    "plt.figure(figsize=(15, 10))\n",
    "\n",
    "#plots\n",
    "plt.plot(list_of_years,italy_arrivals,label='Italy')\n",
    "plt.plot(list_of_years,china_arrivals,label='China')\n",
    "plt.plot(list_of_years,canada_arrivals,label='Canada')\n",
    "plt.plot(list_of_years,uk_arrivals,label='UK')\n",
    "plt.plot(list_of_years,russia_arrivals,label='Russia')\n",
    "plt.plot(list_of_years,brazil_arrivals,label='Brazil')\n",
    "\n",
    "#highlight the hosted year point\n",
    "plt.plot(list_of_years[1], italy_arrivals[1], 'ko')\n",
    "plt.plot(list_of_years[3],china_arrivals[3], 'ko')\n",
    "plt.plot(list_of_years[5],canada_arrivals[5], 'ko')\n",
    "plt.plot(list_of_years[7],uk_arrivals[7], 'ko')\n",
    "plt.plot(list_of_years[9],russia_arrivals[9], 'ko')\n",
    "plt.plot(list_of_years[11],brazil_arrivals[11], 'ko')\n",
    "\n",
    "#formatting\n",
    "plt.title('Years vs. International Arrivals')\n",
    "plt.xlabel('Years')\n",
    "plt.ylabel('Number of Arrivals')\n",
    "plt.xticks(list_of_years, rotation=90)\n",
    "plt.legend()\n",
    "\n",
    "plt.show()"
main
   ]
  },
  {
   "cell_type": "code",
fatma
   "execution_count": null,
   "id": "c5709d89",
   "metadata": {},
   "outputs": [],
   "source": [
    "#replace the west germany and nazi germany with germany and soviet union with russia in the host_cities file\n",
    "\n",
    "host_cities_df = host_cities_df.replace({'Germnay' : 'Germany', 'West Germany': 'Germany', 'Nazi Germany': 'Germany' , 'Soviet Union' : 'Russia'})\n",
    "\n",
    "#replace the misspelled city names with the correct ones based on the host cities file\n",
    "\n",
    "olympics_c_df= olympics_df.replace({'Athina':'Athens', 'Antwerpen':'Antwerp', 'Sankt Moritz':'St. Moritz', 'Roma':'Rome', 'Moskva':'Moscow', 'Torino':'Turin'})\n",
    "\n",
    "#merge olympics and host cities data\n",
    "\n",
    "olympics_country_df = pd.merge(olympics_c_df, host_cities_df, how=\"left\", on=[\"City\"])\n",
    "\n",
    "\n",
    "# remove duplicates from olympics data\n",
    "olympics_country_df = olympics_country_df.drop_duplicates()\n",
    "\n",
    "# look at data quickly\n",
    "olympics_country_df.head()\n",
    "\n"

   "execution_count": 9,
   "id": "d15f4c40",
   "metadata": {},
   "outputs": [],
   "source": [
    "#Rename country in expenditures dataset if different from host cities dataset\n",
    "expenditures_df = expenditures_df.replace('Russian Federation', 'Russia')\n",
    "\n",
    "#Rename column to allow merging\n",
    "expenditures_df = expenditures_df.rename(columns={'Country Name': 'Country'})"
   ]
  },
  {
   "cell_type": "code",
   "execution_count": 10,
   "id": "4d7603ab",
   "metadata": {},
   "outputs": [],
   "source": [
    "#Merge Datasets\n",
    "combined_df = last_six_hosts.merge(expenditures_df, on='Country', how='left')\n",
    "\n",
    "#Get rid of unnecessary columns\n",
    "combined_df = combined_df.drop(['Country Code', 'Indicator Name', 'Indicator Code'], axis=1)\n",
    "\n",
    "#Drop NaN columns\n",
    "combined_df = combined_df.dropna(axis=1)"
   ]
  },
  {
   "cell_type": "code",
   "execution_count": 11,
   "id": "009749e7",
   "metadata": {},
   "outputs": [
    {
     "data": {
      "text/html": [
       "<div>\n",
       "<style scoped>\n",
       "    .dataframe tbody tr th:only-of-type {\n",
       "        vertical-align: middle;\n",
       "    }\n",
       "\n",
       "    .dataframe tbody tr th {\n",
       "        vertical-align: top;\n",
       "    }\n",
       "\n",
       "    .dataframe thead th {\n",
       "        text-align: right;\n",
       "    }\n",
       "</style>\n",
       "<table border=\"1\" class=\"dataframe\">\n",
       "  <thead>\n",
       "    <tr style=\"text-align: right;\">\n",
       "      <th></th>\n",
       "      <th>Country</th>\n",
       "      <th>Host Year</th>\n",
       "      <th>Expenditures before Host Year</th>\n",
       "      <th>Expenditures on Host Year</th>\n",
       "      <th>Expenditures after Host Year</th>\n",
       "    </tr>\n",
       "  </thead>\n",
       "  <tbody>\n",
       "    <tr>\n",
       "      <th>0</th>\n",
       "      <td>Italy</td>\n",
       "      <td>2006</td>\n",
       "      <td>2.676400e+10</td>\n",
       "      <td>2.744900e+10</td>\n",
       "      <td>3.274800e+10</td>\n",
       "    </tr>\n",
       "    <tr>\n",
       "      <th>1</th>\n",
       "      <td>China</td>\n",
       "      <td>2008</td>\n",
       "      <td>2.978600e+10</td>\n",
       "      <td>3.615700e+10</td>\n",
       "      <td>4.370200e+10</td>\n",
       "    </tr>\n",
       "    <tr>\n",
       "      <th>2</th>\n",
       "      <td>Canada</td>\n",
       "      <td>2010</td>\n",
       "      <td>3.022500e+10</td>\n",
       "      <td>3.722500e+10</td>\n",
       "      <td>4.124700e+10</td>\n",
       "    </tr>\n",
       "    <tr>\n",
       "      <th>3</th>\n",
       "      <td>United Kingdom</td>\n",
       "      <td>2012</td>\n",
       "      <td>6.060800e+10</td>\n",
       "      <td>6.132300e+10</td>\n",
       "      <td>6.082300e+10</td>\n",
       "    </tr>\n",
       "    <tr>\n",
       "      <th>4</th>\n",
       "      <td>Russia</td>\n",
       "      <td>2014</td>\n",
       "      <td>5.950400e+10</td>\n",
       "      <td>5.538300e+10</td>\n",
       "      <td>3.843200e+10</td>\n",
       "    </tr>\n",
       "    <tr>\n",
       "      <th>5</th>\n",
       "      <td>Brazil</td>\n",
       "      <td>2016</td>\n",
       "      <td>2.035600e+10</td>\n",
       "      <td>1.706800e+10</td>\n",
       "      <td>2.299100e+10</td>\n",
       "    </tr>\n",
       "  </tbody>\n",
       "</table>\n",
       "</div>"
      ],
      "text/plain": [
       "          Country  Host Year  Expenditures before Host Year  \\\n",
       "0           Italy       2006                   2.676400e+10   \n",
       "1           China       2008                   2.978600e+10   \n",
       "2          Canada       2010                   3.022500e+10   \n",
       "3  United Kingdom       2012                   6.060800e+10   \n",
       "4          Russia       2014                   5.950400e+10   \n",
       "5          Brazil       2016                   2.035600e+10   \n",
       "\n",
       "   Expenditures on Host Year  Expenditures after Host Year  \n",
       "0               2.744900e+10                  3.274800e+10  \n",
       "1               3.615700e+10                  4.370200e+10  \n",
       "2               3.722500e+10                  4.124700e+10  \n",
       "3               6.132300e+10                  6.082300e+10  \n",
       "4               5.538300e+10                  3.843200e+10  \n",
       "5               1.706800e+10                  2.299100e+10  "
      ]
     },
     "execution_count": 11,
     "metadata": {},
     "output_type": "execute_result"
    }
   ],
   "source": [
    "#Create a new data frame that holds the host countries and the expenditures data for the year prior to hosting, the year they hosted and the year after hosting \n",
    "expenditure_change_df = pd.DataFrame({\n",
    "    'Country': combined_df['Country'],\n",
    "    'Host Year': combined_df['Year'],\n",
    "    'Expenditures before Host Year': '',\n",
    "    'Expenditures on Host Year': '',\n",
    "    'Expenditures after Host Year': ''\n",
    "    \n",
    "})\n",
    "\n",
    "expenditure_data_prior_host_year = [combined_df.iloc[0, 13], combined_df.iloc[1, 15], combined_df.iloc[2, 17], \\\n",
    "                            combined_df.iloc[3, 19], combined_df.iloc[4, 21], combined_df.iloc[5, 23]]\n",
    "\n",
    "expenditure_data_on_host_year = [combined_df.iloc[0, 14], combined_df.iloc[1, 16], combined_df.iloc[2, 18], \\\n",
    "                            combined_df.iloc[3, 20], combined_df.iloc[4, 22], combined_df.iloc[5, 24]]\n",
    "\n",
    "expenditure_data_after_host_year = [combined_df.iloc[0, 15], combined_df.iloc[1, 17], combined_df.iloc[2, 19], \\\n",
    "                            combined_df.iloc[3, 21], combined_df.iloc[4, 23], combined_df.iloc[5, 25]]\n",
    "\n",
    "expenditure_change_df['Expenditures before Host Year'] = expenditure_data_prior_host_year\n",
    "\n",
    "expenditure_change_df['Expenditures on Host Year'] = expenditure_data_on_host_year\n",
    "\n",
    "expenditure_change_df['Expenditures after Host Year'] = expenditure_data_after_host_year\n",
    "\n",
    "expenditure_change_df"
main
   ]
  },
  {
   "cell_type": "code",
fatma
   "execution_count": null,
   "id": "05732867",
   "metadata": {},
   "outputs": [],
   "source": [
    "# leave only the columns that are relevant to the analysis\n",
    "olympics_country_df = olympics_country_df[[\"Name\", \"Team\", \"Year\", \"Season\", \"Sport\", \"Event\", \"Medal\", \"Country\"]]\n",
    "olympics_country_df.shape\n"

   "execution_count": 12,
   "id": "4ed0f770",
   "metadata": {},
   "outputs": [
    {
     "data": {
      "image/png": "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\n",
      "text/plain": [
       "<Figure size 1080x720 with 1 Axes>"
      ]
     },
     "metadata": {
      "needs_background": "light"
     },
     "output_type": "display_data"
    }
   ],
   "source": [
    "# Extract individual groups\n",
    "before_host = expenditure_change_df['Expenditures before Host Year']\n",
    "on_host = expenditure_change_df['Expenditures on Host Year']\n",
    "after_host = expenditure_change_df['Expenditures after Host Year']\n",
    "\n",
    "# Numbers of pairs of bars\n",
    "N = 6\n",
    "\n",
    "# Position of bars on x-axis\n",
    "position = np.arange(N)\n",
    "\n",
    "# Figure size\n",
    "plt.figure(figsize=(15,10))\n",
    "\n",
    "# Width of a bar \n",
    "width = 0.2\n",
    "width_2 = 0.2\n",
    "\n",
    "# Plotting\n",
    "plt.bar(position, before_host, width, label='Before Hosting')\n",
    "plt.bar(position + width, on_host, width, label='Year of Hosting')\n",
    "plt.bar(position + width + width_2, after_host, width, label='After Hosting')\n",
    "\n",
    "plt.xlabel('Host Country')\n",
    "plt.ylabel('US Dollars ($)')\n",
    "plt.title('Olympics Host Country vs. International Expenditures')\n",
    "\n",
    "# xticks()\n",
    "plt.xticks(position + width + width_2/ 20, expenditure_change_df['Country'])\n",
    "\n",
    "# Finding the best position for legends and putting it\n",
    "plt.legend(loc='best')\n",
    "plt.show()"
   ]
  },
  {
   "cell_type": "markdown",
   "id": "a18692b9",
   "metadata": {},
   "source": [
    "# Question 1 Report\n",
    "\n",
    "The Olympics is a time of competition and national pride. People around the world arrive at the Olympics to support their nation's athletes throughout many sporting events. While the olympics are catered around its athletic events and fans, it is also very much about business. Host cities invest into the Olympics heavly in hopes of making sizable gains for both the local and national economy through tourism, marketing, etc. In this analysis, we look at the influence of the Olympics on the host country's international arrival data as well as international expenditure data.\n",
    "\n",
    "Looking at the timeline graph outlining the international arrival data for countries that hosted since 2006, we can see that majority of the countries experienced an uptick in their number of international arrivals on the year they hosted aside from China. China's number of international arrivals dropped by 3% compared to the year before. However, there is much needed context to explain this change. Leading up to the 2008 Summer Olympics, there were numerous concerns regarding human rights violation committed by China during the civil unrest in Tibet that led high-profile politicians and celebrities to boycott the games. Additionally, the level of air pollution in Beijing came under scrutiny due to the hazard it posed to the competing athletes and the general public. The financial crisis of 2007-2008 was also a factor since it was a severe worldwide economic crisis limiting an individual's spending ability.\n",
    "\n",
    "The international expenditure data, on the other hand, tells us a different story of the macroeconomy during the time of Olympics and the year after. Nations such as Italy, China, Canada, and the United Kingdom experienced an increase in their international expenditures the year they hosted the Olympics as opposed to Russia and Brazil. Russia hosted the Olympics in 2014, a time at which they were experiencing their own financial crisis. Due to the fall in price of oil, a major export of Russia, a sharp devaluation of the Russian ruble took place. Furthermore, international economic sanctions were placed on Russia due to their intervention in Ukraine. Similarily, Brazil also faced an economic crisis in 2015, a year before hosting the Olympics. This occured as a result of a dispute in the legitmacy of the Brazilian elections leading to dissatification with the government by the general public. However, Brazil did see an increase in their international expenditures an year after hosting the Olympics due to the increased tourism that took place. "
main
   ]
  },
  {
   "cell_type": "code",
fatma
   "execution_count": null,
   "id": "dc88303d",
   "metadata": {},
   "outputs": [],
   "source": [
    "# check if any NaN is left in the Country column. Shape should be equal to olympics_country_df.if there is no NaN left nothing \n",
    "# will drop and the row numbers should stay same.\n",
    "x = olympics_country_df.dropna(subset=[\"Country\"])\n",
    "x.shape\n"

   "execution_count": 13,
   "id": "000ee39a",
   "metadata": {},
   "outputs": [],
   "source": [
    "#Jumaan end here"
main
   ]
  },
  {
   "cell_type": "markdown",
   "id": "4f01b43c",
   "metadata": {},
   "source": [
    "The medal column has NaN for no medal won. Replace all with 0"
   ]
  },
  {
   "cell_type": "code",
fatma
   "execution_count": null,
   "id": "964c41c7",
   "metadata": {},
   "outputs": [],
   "source": [
    "# replace all the NaN in the Medal column with 0\n",
    "values = {\"Medal\" : 0}\n",
    "olympics_country_df = olympics_country_df.fillna(value=values)\n",
    "olympics_country_df = pd.DataFrame(olympics_country_df)\n",
    "olympics_country_df.head()\n"

   "execution_count": 14,
   "id": "7fb927fa",
   "metadata": {},
   "outputs": [],
   "source": [
    "#Timmy start here (Question 2)"
   ]
  },
  {
   "cell_type": "code",
   "execution_count": 15,
   "id": "4a097d45",
   "metadata": {},
   "outputs": [],
   "source": [
    "#Timmy end here"
   ]
  },
  {
   "cell_type": "code",
   "execution_count": 16,
   "id": "0831b694",
   "metadata": {},
   "outputs": [],
   "source": [
    "#Raj start here (Question 3)"
   ]
  },
  {
   "cell_type": "code",
   "execution_count": 17,
   "id": "4aadd936",
   "metadata": {},
   "outputs": [],
   "source": [
    "#Raj end here"
   ]
  },
  {
   "cell_type": "code",
   "execution_count": 18,
   "id": "1b0aee1d",
   "metadata": {},
   "outputs": [],
   "source": [
    "#Fatma start here (Question 4)"
   ]
  },
  {
   "cell_type": "code",
   "execution_count": 19,
   "id": "9ad26fd8",
   "metadata": {},
   "outputs": [
    {
     "data": {
      "text/html": [
       "<div>\n",
       "<style scoped>\n",
       "    .dataframe tbody tr th:only-of-type {\n",
       "        vertical-align: middle;\n",
       "    }\n",
       "\n",
       "    .dataframe tbody tr th {\n",
       "        vertical-align: top;\n",
       "    }\n",
       "\n",
       "    .dataframe thead th {\n",
       "        text-align: right;\n",
       "    }\n",
       "</style>\n",
       "<table border=\"1\" class=\"dataframe\">\n",
       "  <thead>\n",
       "    <tr style=\"text-align: right;\">\n",
       "      <th></th>\n",
       "      <th>ID</th>\n",
       "      <th>Name</th>\n",
       "      <th>Sex</th>\n",
       "      <th>Age</th>\n",
       "      <th>Height</th>\n",
       "      <th>Weight</th>\n",
       "      <th>Team</th>\n",
       "      <th>NOC</th>\n",
       "      <th>Games</th>\n",
       "      <th>Year</th>\n",
       "      <th>Season</th>\n",
       "      <th>City</th>\n",
       "      <th>Sport</th>\n",
       "      <th>Event</th>\n",
       "      <th>Medal</th>\n",
       "    </tr>\n",
       "  </thead>\n",
       "  <tbody>\n",
       "    <tr>\n",
       "      <th>0</th>\n",
       "      <td>1</td>\n",
       "      <td>A Dijiang</td>\n",
       "      <td>M</td>\n",
       "      <td>24.0</td>\n",
       "      <td>180.0</td>\n",
       "      <td>80.0</td>\n",
       "      <td>China</td>\n",
       "      <td>CHN</td>\n",
       "      <td>1992 Summer</td>\n",
       "      <td>1992</td>\n",
       "      <td>Summer</td>\n",
       "      <td>Barcelona</td>\n",
       "      <td>Basketball</td>\n",
       "      <td>Basketball Men's Basketball</td>\n",
       "      <td>NaN</td>\n",
       "    </tr>\n",
       "    <tr>\n",
       "      <th>1</th>\n",
       "      <td>2</td>\n",
       "      <td>A Lamusi</td>\n",
       "      <td>M</td>\n",
       "      <td>23.0</td>\n",
       "      <td>170.0</td>\n",
       "      <td>60.0</td>\n",
       "      <td>China</td>\n",
       "      <td>CHN</td>\n",
       "      <td>2012 Summer</td>\n",
       "      <td>2012</td>\n",
       "      <td>Summer</td>\n",
       "      <td>London</td>\n",
       "      <td>Judo</td>\n",
       "      <td>Judo Men's Extra-Lightweight</td>\n",
       "      <td>NaN</td>\n",
       "    </tr>\n",
       "    <tr>\n",
       "      <th>2</th>\n",
       "      <td>3</td>\n",
       "      <td>Gunnar Nielsen Aaby</td>\n",
       "      <td>M</td>\n",
       "      <td>24.0</td>\n",
       "      <td>NaN</td>\n",
       "      <td>NaN</td>\n",
       "      <td>Denmark</td>\n",
       "      <td>DEN</td>\n",
       "      <td>1920 Summer</td>\n",
       "      <td>1920</td>\n",
       "      <td>Summer</td>\n",
       "      <td>Antwerpen</td>\n",
       "      <td>Football</td>\n",
       "      <td>Football Men's Football</td>\n",
       "      <td>NaN</td>\n",
       "    </tr>\n",
       "    <tr>\n",
       "      <th>3</th>\n",
       "      <td>4</td>\n",
       "      <td>Edgar Lindenau Aabye</td>\n",
       "      <td>M</td>\n",
       "      <td>34.0</td>\n",
       "      <td>NaN</td>\n",
       "      <td>NaN</td>\n",
       "      <td>Denmark/Sweden</td>\n",
       "      <td>DEN</td>\n",
       "      <td>1900 Summer</td>\n",
       "      <td>1900</td>\n",
       "      <td>Summer</td>\n",
       "      <td>Paris</td>\n",
       "      <td>Tug-Of-War</td>\n",
       "      <td>Tug-Of-War Men's Tug-Of-War</td>\n",
       "      <td>Gold</td>\n",
       "    </tr>\n",
       "    <tr>\n",
       "      <th>4</th>\n",
       "      <td>5</td>\n",
       "      <td>Christine Jacoba Aaftink</td>\n",
       "      <td>F</td>\n",
       "      <td>21.0</td>\n",
       "      <td>185.0</td>\n",
       "      <td>82.0</td>\n",
       "      <td>Netherlands</td>\n",
       "      <td>NED</td>\n",
       "      <td>1988 Winter</td>\n",
       "      <td>1988</td>\n",
       "      <td>Winter</td>\n",
       "      <td>Calgary</td>\n",
       "      <td>Speed Skating</td>\n",
       "      <td>Speed Skating Women's 500 metres</td>\n",
       "      <td>NaN</td>\n",
       "    </tr>\n",
       "  </tbody>\n",
       "</table>\n",
       "</div>"
      ],
      "text/plain": [
       "   ID                      Name Sex   Age  Height  Weight            Team  \\\n",
       "0   1                 A Dijiang   M  24.0   180.0    80.0           China   \n",
       "1   2                  A Lamusi   M  23.0   170.0    60.0           China   \n",
       "2   3       Gunnar Nielsen Aaby   M  24.0     NaN     NaN         Denmark   \n",
       "3   4      Edgar Lindenau Aabye   M  34.0     NaN     NaN  Denmark/Sweden   \n",
       "4   5  Christine Jacoba Aaftink   F  21.0   185.0    82.0     Netherlands   \n",
       "\n",
       "   NOC        Games  Year  Season       City          Sport  \\\n",
       "0  CHN  1992 Summer  1992  Summer  Barcelona     Basketball   \n",
       "1  CHN  2012 Summer  2012  Summer     London           Judo   \n",
       "2  DEN  1920 Summer  1920  Summer  Antwerpen       Football   \n",
       "3  DEN  1900 Summer  1900  Summer      Paris     Tug-Of-War   \n",
       "4  NED  1988 Winter  1988  Winter    Calgary  Speed Skating   \n",
       "\n",
       "                              Event Medal  \n",
       "0       Basketball Men's Basketball   NaN  \n",
       "1      Judo Men's Extra-Lightweight   NaN  \n",
       "2           Football Men's Football   NaN  \n",
       "3       Tug-Of-War Men's Tug-Of-War  Gold  \n",
       "4  Speed Skating Women's 500 metres   NaN  "
      ]
     },
     "execution_count": 19,
     "metadata": {},
     "output_type": "execute_result"
    }
   ],
   "source": [
    "olympics_df.head()"
main
   ]
  },
  {
   "cell_type": "markdown",
   "id": "c47263d6",
   "metadata": {},
   "source": [
    "Make a dataframe that shows only teams for the years they hosted and remove any rows when no medal was won"
   ]
  },
  {
   "cell_type": "code",
fatma
   "execution_count": null,
   "id": "a661baf8",
   "metadata": {},
   "outputs": [],
   "source": [
    "# Make a new df where the team is from the host country\n",
    "\n",
    "host_team = olympics_country_df.loc[olympics_country_df[\"Team\"] == olympics_country_df[\"Country\"]]\n",
    "host_team.head()\n",
    "\n",
    "    "

   "execution_count": 20,
   "id": "4f1d9b0b",
   "metadata": {},
   "outputs": [
    {
     "data": {
      "text/plain": [
       "array(['Athens', 'Paris', 'St. Louis', 'London', 'Stockholm', 'Antwerp',\n",
       "       'Chamonix', 'St. Moritz', 'Amsterdam', 'Lake Placid',\n",
       "       'Los Angeles', 'Garmisch-Partenkirchen', 'Berlin', 'Oslo',\n",
       "       'Helsinki', \"Cortina d'Ampezzo\", 'Melbourne', 'Squaw Valley',\n",
       "       'Rome', 'Innsbruck', 'Tokyo', 'Grenoble', 'Mexico City', 'Sapporo',\n",
       "       'Munich', 'Montreal', 'Moscow', 'Sarajevo', 'Calgary', 'Seoul',\n",
       "       'Albertville', 'Barcelona', 'Lillehammer', 'Atlanta', 'Nagano',\n",
       "       'Sydney', 'Salt Lake City', 'Turin', 'Beijing', 'Vancouver',\n",
       "       'Sochi', 'Rio de Janeiro'], dtype=object)"
      ]
     },
     "execution_count": 20,
     "metadata": {},
     "output_type": "execute_result"
    }
   ],
   "source": [
    "host_cities_df.head()\n",
    "host_cities_df = host_cities_df[[\"City\", \"Country\"    ]]\n",
    "host_cities_df.head()\n",
    "z=host_cities_df[\"City\"].unique()\n",
    "z"
main
   ]
  },
  {
   "cell_type": "code",
fatma
   "execution_count": null,
   "id": "67b29528",
   "metadata": {},
   "outputs": [],
   "source": [
    "# remove the columns with no medal win\n",
    "\n",
    "medal_win = host_team.loc[host_team[\"Medal\"] != 0]\n",
    "\n",
    "# drop any duplicate row if there is any\n",
    "medal_win = medal_win.dropna()\n",
    "\n",
    "# keep only columns of interest\n",
    "medal_win = medal_win[[ \"Team\", \"Year\", \"Medal\"]]"

   "execution_count": 21,
   "id": "c5709d89",
   "metadata": {},
   "outputs": [
    {
     "ename": "NameError",
     "evalue": "name 'olympics_country_df' is not defined",
     "output_type": "error",
     "traceback": [
      "\u001b[0;31m---------------------------------------------------------------------------\u001b[0m",
      "\u001b[0;31mNameError\u001b[0m                                 Traceback (most recent call last)",
      "\u001b[0;32m<ipython-input-21-2eed32ca2d3c>\u001b[0m in \u001b[0;36m<module>\u001b[0;34m\u001b[0m\n\u001b[1;32m      1\u001b[0m \u001b[0;31m# remove duplicates\u001b[0m\u001b[0;34m\u001b[0m\u001b[0;34m\u001b[0m\u001b[0;34m\u001b[0m\u001b[0m\n\u001b[0;32m----> 2\u001b[0;31m \u001b[0molympics_country_df\u001b[0m\u001b[0;34m=\u001b[0m\u001b[0molympics_country_df\u001b[0m\u001b[0;34m.\u001b[0m\u001b[0mdrop_duplicates\u001b[0m\u001b[0;34m(\u001b[0m\u001b[0;34m)\u001b[0m\u001b[0;34m\u001b[0m\u001b[0;34m\u001b[0m\u001b[0m\n\u001b[0m\u001b[1;32m      3\u001b[0m \u001b[0;34m\u001b[0m\u001b[0m\n\u001b[1;32m      4\u001b[0m \u001b[0;31m#replace the misspelled city names with the correct ones based on the host cities file\u001b[0m\u001b[0;34m\u001b[0m\u001b[0;34m\u001b[0m\u001b[0;34m\u001b[0m\u001b[0m\n\u001b[1;32m      5\u001b[0m \u001b[0molympics_c_df\u001b[0m\u001b[0;34m=\u001b[0m \u001b[0molympics_df\u001b[0m\u001b[0;34m.\u001b[0m\u001b[0mreplace\u001b[0m\u001b[0;34m(\u001b[0m\u001b[0;34m{\u001b[0m\u001b[0;34m'Athina'\u001b[0m\u001b[0;34m:\u001b[0m\u001b[0;34m'Athens'\u001b[0m\u001b[0;34m,\u001b[0m \u001b[0;34m'Antwerpen'\u001b[0m\u001b[0;34m:\u001b[0m\u001b[0;34m'Antwerp'\u001b[0m\u001b[0;34m,\u001b[0m \u001b[0;34m'Sankt Moritz'\u001b[0m\u001b[0;34m:\u001b[0m\u001b[0;34m'St. Moritz'\u001b[0m\u001b[0;34m,\u001b[0m \u001b[0;34m'Roma'\u001b[0m\u001b[0;34m:\u001b[0m\u001b[0;34m'Rome'\u001b[0m\u001b[0;34m,\u001b[0m \u001b[0;34m'Moskva'\u001b[0m\u001b[0;34m:\u001b[0m\u001b[0;34m'Moscow'\u001b[0m\u001b[0;34m,\u001b[0m \u001b[0;34m'Torino'\u001b[0m\u001b[0;34m:\u001b[0m\u001b[0;34m'Turin'\u001b[0m\u001b[0;34m}\u001b[0m\u001b[0;34m)\u001b[0m\u001b[0;34m\u001b[0m\u001b[0;34m\u001b[0m\u001b[0m\n",
      "\u001b[0;31mNameError\u001b[0m: name 'olympics_country_df' is not defined"
     ]
    }
   ],
   "source": [
    "\n",
    "\n",
    "# remove duplicates\n",
    "olympics_country_df=olympics_country_df.drop_duplicates()\n",
    "\n",
    "#replace the misspelled city names with the correct ones based on the host cities file\n",
    "olympics_c_df= olympics_df.replace({'Athina':'Athens', 'Antwerpen':'Antwerp', 'Sankt Moritz':'St. Moritz', 'Roma':'Rome', 'Moskva':'Moscow', 'Torino':'Turin'})\n",
    "olympics_country_df = pd.merge(olympics_c_df, host_cities_df, how=\"left\", on=[\"City\"])\n",
    "y = olympics_country_df.sort_values([\"Year\"])\n",
    "\n",
    "y"
   ]
  },
  {
   "cell_type": "code",
   "execution_count": null,
   "id": "05732867",
   "metadata": {},
   "outputs": [],
   "source": [
    "# leave only the columns that are relevant to the analysis\n",
    "olympics_country_df= olympics_country_df[[\"Name\", \"Team\", \"Year\", \"Season\", \"Sport\", \"Event\", \"Medal\", \"Country\"]]\n",
    "olympics_country_df.shape\n"
   ]
  },
  {
   "cell_type": "code",
   "execution_count": null,
   "id": "dc88303d",
   "metadata": {},
   "outputs": [],
   "source": [
    "# check if any NaN is left in the Country column. Shape should be equal to olympics_country_df.\n",
    "x =olympics_country_df.dropna(subset=[\"Country\"])\n",
    "x.shape\n"
   ]
  },
  {
   "cell_type": "code",
   "execution_count": null,
   "id": "964c41c7",
   "metadata": {},
   "outputs": [],
   "source": [
    "# replace all the NaN in the Medal column with 0\n",
    "values = {\"Medal\" : 0}\n",
    "olympics_country_df= olympics_country_df.fillna(value=values)\n",
    "olympics_country_df= pd.DataFrame(olympics_country_df)\n",
    "olympics_country_df.head()\n"
   ]
  },
  {
   "cell_type": "code",
   "execution_count": null,
   "id": "a661baf8",
   "metadata": {},
   "outputs": [],
   "source": [
    "# Make a new df where the team is from the host country\n",
    "host_team=olympics_country_df.loc[olympics_country_df[\"Team\"] == olympics_country_df[\"Country\"]]\n",
    "host_team.head()\n",
    "\n",
    "    "
   ]
  },
  {
   "cell_type": "code",
   "execution_count": null,
   "id": "22b3a3ad",
   "metadata": {},
   "outputs": [],
   "source": [
    "#plot a graph showing how many medals host countries won\n",
    "host_team\n",
    "host_team.groupby([\"Team\", \"Year\"]).count()"
main
   ]
  },
  {
   "cell_type": "code",
   "execution_count": null,
fatma
   "id": "9817e3ce",
   "metadata": {},
   "outputs": [],
   "source": [
    "# how many medals host countries won, do groupby\n",
    "\n",
    "medal_win_host = medal_win.groupby([\"Team\", \"Year\"]).count()\n",
    "medal_win_host\n",
    "\n",
    "# reset index \n",
    "\n",
    "host_year_medal_count = medal_win_host.reset_index()\n",
    "host_year_medal_count.head()\n"
   ]
  },
  {
   "cell_type": "code",
   "execution_count": null,
   "id": "d4702a31",
   "metadata": {},
   "outputs": [],
   "source": [
    "# from my corrected host cities dataframe find the unique countries\n",
    "host_countries = host_cities_df[\"Country\"].unique()\n",
    "host_countries"
   ]
  },
  {
   "cell_type": "markdown",
   "id": "e6371654",
   "metadata": {},
   "source": [
    "Make a dataframe that shows all the teams that hosted olympics anytime, remove rows when no medal was won, count the total medal won for that country in that year"
   ]
  },
  {
   "cell_type": "code",
   "execution_count": null,
   "id": "df24bc47",
   "metadata": {},
   "outputs": [],
   "source": [
    "# clean the olympics dataframe only that it has teams that were also hosts at anytime during the olympics\n",
    "\n",
    "only_teams_that_hosted = olympics_country_df[olympics_country_df[\"Team\"].isin(olympics_country_df[\"Country\"])]\n",
    "only_teams_that_hosted.head()"
   ]
  },
  {
   "cell_type": "code",
   "execution_count": null,
   "id": "b52c4ac8",
   "metadata": {},
   "outputs": [],

   "id": "67b29528",
   "metadata": {},
   "outputs": [],
main
   "source": [
    "#remove the columns with no medal win\n",
    "\n",
    "medal_win_by_team = only_teams_that_hosted.loc[only_teams_that_hosted[\"Medal\"] != 0]\n",
    "medal_win_by_team = medal_win_by_team.dropna()\n",
    "\n",
    "#this is different from the medal win dataframe in that this one includes all the years the hosting country participated\n",
    "#keep only relevant columns\n",
    "\n",
    "medal_win_by_team = medal_win_by_team[[\"Team\", \"Year\", \"Medal\"]]"
   ]
  },
  {
   "cell_type": "code",
   "execution_count": null,
   "id": "8100cf41",
   "metadata": {},
   "outputs": [],
   "source": [
    "# group by team and count the medal wins of the team during the entire time (not only when it is host)\n",
    "\n",
    "year_medal_count = medal_win_by_team.groupby([\"Team\", \"Year\"]).count()\n",
    "year_medal_count.head()"
   ]
  },
  {
   "cell_type": "markdown",
   "id": "9fcebc4f",
   "metadata": {},
   "source": [
    "Make bar graphs showing how many medals each contry won. Color the year of hosting red"
   ]
  },
  {
   "cell_type": "code",
   "execution_count": null,
   "id": "f26d5e19",
   "metadata": {},
   "outputs": [],
   "source": [
    "# for loop for each team \n",
    "\n",
    "team = only_teams_that_hosted[\"Team\"].unique()\n",
    "team = team.tolist()\n",
    "team\n",
    "\n",
    "for team in team:\n",
    "    \n",
    "    teams = year_medal_count.loc[team]\n",
    "    \n",
    "    bar = host_year_medal_count.loc[host_year_medal_count[\"Team\"] == team ][\"Year\"].tolist()\n",
    "    \n",
    "    colors = [\"red\" if x in bar else \"yellow\" for x in teams.index]\n",
    "    \n",
    "    teams.plot.bar(y=\"Medal\", title=f\"Olympic medal counts for {team} \", color=colors)\n",
    "    \n",
    "    plt.show()\n",
    "    \n",
    "    "
   ]
  },
  {
   "cell_type": "markdown",
   "id": "9f11fbfe",
   "metadata": {},
   "source": [
    "Do everything only for summer Olympics"
   ]
  },
  {
   "cell_type": "code",
   "execution_count": null,
   "id": "79918fe6",
   "metadata": {},
   "outputs": [],
   "source": [
    "# get the medal wins only for summer olympics for host teams\n",
    "\n",
    "\n",
    "summer_wins = host_team.loc[host_team[\"Medal\"] != 0]\n",
    "summer_wins = summer_wins.dropna()\n",
    "summer_wins\n",
    "\n",
    "summer_wins = summer_wins.loc[summer_wins[\"Season\"] == \"Summer\"]\n",
    "summer_wins = summer_wins[[ \"Team\", \"Year\", \"Medal\"]]\n",
    "summer_wins"
   ]
  },
  {
   "cell_type": "code",
   "execution_count": null,
   "id": "791133fe",
   "metadata": {},
   "outputs": [],
   "source": [
    "# medal counts for teams during hosting\n",
    "summer_win_host = summer_wins.groupby([\"Team\", \"Year\"]).count()\n",
    "summer_win_host\n",
    "\n",
    "host_year_medal_count_summer = summer_win_host.reset_index()\n",
    "host_year_medal_count_summer.head()"
   ]
  },
  {
   "cell_type": "code",
   "execution_count": null,
   "id": "3dbe6509",
   "metadata": {},
   "outputs": [],
   "source": [
    "# divide the only teams that hosted dataframe into summer\n",
    "\n",
    "only_teams_that_hosted_summer = only_teams_that_hosted.loc[only_teams_that_hosted[\"Season\"] == \"Summer\"]\n",
    "only_teams_that_hosted_summer.head()"
   ]
  },
  {
   "cell_type": "code",
   "execution_count": null,
   "id": "499b5d9c",
   "metadata": {},
   "outputs": [],
   "source": [
    "#remove the columns with no medal win\n",
    "\n",
    "medal_win_by_team_summer = only_teams_that_hosted_summer.loc[only_teams_that_hosted_summer[\"Medal\"] != 0]\n",
    "medal_win_by_team_summer= medal_win_by_team_summer.dropna()\n",
    "medal_win_by_team_summer = medal_win_by_team_summer[[\"Team\", \"Year\", \"Medal\"]]"
   ]
  },
  {
   "cell_type": "code",
   "execution_count": null,
fatma
   "id": "e0f38cac",

   "id": "da9845b0",
main
   "metadata": {},
   "outputs": [],
   "source": [
    "# group by team and count the medal wins of the team during the entire time (not only when it is host)\n",
    "\n",
    "year_medal_count_summer = medal_win_by_team_summer.groupby([\"Team\", \"Year\"]).count()\n",
    "year_medal_count_summer.head()"
   ]
  },
  {
   "cell_type": "code",
   "execution_count": null,
   "id": "408a7af6",
   "metadata": {},
   "outputs": [],
   "source": [
    "# for loop for each team \n",
    "\n",
    "team = only_teams_that_hosted_summer[\"Team\"].unique()\n",
    "team = team.tolist()\n",
    "team\n",
    "\n",
    "for team in team:\n",
    "    \n",
    "    teams = year_medal_count_summer.loc[team]\n",
    "    \n",
    "    bar = host_year_medal_count_summer.loc[host_year_medal_count_summer[\"Team\"] == team ][\"Year\"].tolist()\n",
    "    \n",
    "    colors = [\"red\" if x in bar else \"yellow\" for x in teams.index]\n",
    "    \n",
    "    teams.plot.bar(y=\"Medal\", title=f\"Olympic medal counts for {team} \", color=colors)\n",
    "    \n",
    "    plt.show()\n",
    "    "
   ]
  },
  {
   "cell_type": "markdown",
   "id": "01cd9623",
   "metadata": {},
   "source": [
    "Calculate Ttest for checking the null hypothesis that states \"The mean medal win for a country before and after hosting the Olympics is NOT different\""
   ]
  },
  {
   "cell_type": "code",
   "execution_count": null,
   "id": "9a202a23",
   "metadata": {},
   "outputs": [],
   "source": [
    "# create a list of dataframes that will show the country, year they played and medals they won\n",
    "# first remove all countries that hosted for more than ones. \n",
    "\n",
    "j =year_medal_count_summer.reset_index()\n",
    "t= host_year_medal_count_summer\n",
    "\n",
    "\n",
    "t[\"Team\"].value_counts() == 1\n",
    "r = t.drop_duplicates(subset = \"Team\", keep=False)\n",
    "r\n",
    "\n",
    "# make a list that contains these countries\n",
    "team_summer = r[\"Team\"].tolist()"
   ]
  },
  {
   "cell_type": "code",
   "execution_count": null,
   "id": "2492bd32",
   "metadata": {},
   "outputs": [],
   "source": [
    "# now make a for loop that will show the country and medal wins the years after they hosted.\n",
    "team_list_after = []\n",
    "\n",
    "for team in team_summer:\n",
    "    \n",
    "    df = j.loc[(j[\"Team\"] == team) & (j[\"Year\"] > r[r['Team']==team]['Year'].values[0])]\n",
    "    team_list_after.append(df)\n",
    "    \n",
    "    \n",
    "    \n",
    "team_list_after[0]"
   ]
  },
  {
   "cell_type": "code",
   "execution_count": null,
   "id": "966fcd78",
   "metadata": {},
   "outputs": [],
   "source": [
    "# now make a for loop that will show the country and medal wins the years before they hosted.\n",
    "\n",
    "\n",
    "team_list_before = []\n",
    "\n",
    "for team in team_summer:\n",
    "    \n",
    "    df = j.loc[(j[\"Team\"] == team) & (j[\"Year\"] < r[r['Team']==team]['Year'].values[0])]\n",
    "    team_list_before.append(df)\n",
    "    \n",
    "    \n",
    "    \n",
    "team_list_before[0][\"Medal\"]"
   ]
  },
  {
   "cell_type": "code",
   "execution_count": null,
   "id": "d9db5829",
   "metadata": {},
   "outputs": [],
   "source": [
    "# calculate t test for each country data obtained from the for loops above\n",
    "#make a for loop for each team\n",
    "\n",
    "teams = []\n",
    "for i in range(len(team_list_after)):\n",
    "\n",
    "    test = stats.ttest_ind(team_list_after[i].Medal, team_list_before[i].Medal, equal_var=False)\n",
    "    teamss = team_list_after[i][\"Team\"].unique().tolist()\n",
    "    teams.append(teamss)\n",
    "    \n",
    "    print(f\"Ttest result for {teams[i]}: {test}\")"
   ]
  },
  {
   "cell_type": "markdown",
   "id": "282653ec",
   "metadata": {},
   "source": [
    "We were able to reject our null hypothesis for Belgium, Canada, China, Finland, Germany,Japan, Netherlands, South Korea and Spain. \n",
    "We failed to reject the null hypothesis for Italy and Mexico.\n",
    "We did not have enough data to perform the test on Brazil."
   ]
  },
  {
   "cell_type": "code",
   "execution_count": null,
   "id": "13e24274",
   "metadata": {},
   "outputs": [],
   "source": [
    "#Fatma end here"
   ]
  }
 ],
 "metadata": {
  "kernelspec": {
   "display_name": "Python 3",
   "language": "python",
   "name": "python3"
  },
  "language_info": {
   "codemirror_mode": {
    "name": "ipython",
    "version": 3
   },
   "file_extension": ".py",
   "mimetype": "text/x-python",
   "name": "python",
   "nbconvert_exporter": "python",
   "pygments_lexer": "ipython3",
   "version": "3.8.8"
  }
 },
 "nbformat": 4,
 "nbformat_minor": 5
}
