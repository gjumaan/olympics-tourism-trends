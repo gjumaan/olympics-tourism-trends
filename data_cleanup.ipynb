{
 "cells": [
  {
   "cell_type": "code",
   "execution_count": null,
   "id": "2034c694",
   "metadata": {},
   "outputs": [],
   "source": [
    "#Import dependencies \n",
    "import pandas as pd\n",
    "import numpy as np\n",
    "import matplotlib.pyplot as plt\n",
    "import json\n",
    "import requests\n",
    "import scipy.stats as stats"
   ]
  },
  {
   "cell_type": "code",
   "execution_count": null,
   "id": "b4ac7d78",
   "metadata": {},
   "outputs": [],
   "source": [
    "#Read the csv files\n",
    "olympics_df = pd.read_csv('Resources/athlete_events.csv')\n",
    "regions_df = pd.read_csv('Resources/noc_regions.csv')\n",
    "host_cities_df = pd.read_csv('Resources/olym.csv')\n",
    "arrivals_df = pd.read_csv('Resources/INT.ARVL.csv')\n",
    "departures_df = pd.read_csv('Resources/INT.DPRT.csv')\n",
    "expenditures_df = pd.read_csv('Resources/INT.XPND.csv')"
   ]
  },
  {
   "cell_type": "code",
   "execution_count": null,
   "id": "646bbafe",
   "metadata": {},
   "outputs": [],
   "source": [
    "#Jumaan start here (Question 1)"
   ]
  },
  {
   "cell_type": "code",
   "execution_count": null,
   "id": "000ee39a",
   "metadata": {},
   "outputs": [],
   "source": [
    "#Jumaan end here"
   ]
  },
  {
   "cell_type": "code",
   "execution_count": null,
   "id": "7fb927fa",
   "metadata": {},
   "outputs": [],
   "source": [
    "#Timmy start here (Question 2)"
   ]
  },
  {
   "cell_type": "code",
   "execution_count": null,
   "id": "4a097d45",
   "metadata": {},
   "outputs": [],
   "source": [
    "#Timmy end here"
   ]
  },
  {
   "cell_type": "code",
   "execution_count": null,
   "id": "0831b694",
   "metadata": {},
   "outputs": [],
   "source": [
    "#Raj start here (Question 3)"
   ]
  },
  {
   "cell_type": "code",
   "execution_count": null,
   "id": "4aadd936",
   "metadata": {},
   "outputs": [],
   "source": [
    "#Raj end here"
   ]
  },
  {
   "cell_type": "code",
   "execution_count": null,
   "id": "1b0aee1d",
   "metadata": {},
   "outputs": [],
   "source": [
    "#Fatma start here (Question 4)"
   ]
  },
  {
   "cell_type": "markdown",
   "id": "bc7315e8",
   "metadata": {},
   "source": [
    " Is there a statistically significant difference between medals won prior to hosting olympics and after hosting?"
   ]
  },
  {
   "cell_type": "code",
   "execution_count": null,
   "id": "9ad26fd8",
   "metadata": {},
   "outputs": [],
   "source": [
    "# quick look on olympics data\n",
    "\n",
    "olympics_df.head()"
   ]
  },
  {
   "cell_type": "code",
   "execution_count": null,
   "id": "2c7d2f86",
   "metadata": {},
   "outputs": [],
   "source": [
    "# look at host cities data\n",
    "host_cities_df.head()"
   ]
  },
  {
   "cell_type": "markdown",
   "id": "0b10791d",
   "metadata": {},
   "source": [
    "Clean up mispelled words in the dataframe"
   ]
  },
  {
   "cell_type": "code",
   "execution_count": null,
   "id": "4f1d9b0b",
   "metadata": {},
   "outputs": [],
   "source": [
    "# get only the city and country column from the host city data\n",
    "host_cities_df = host_cities_df[[\"City\", \"Country\"]]\n",
    "host_cities_df.head()\n",
    "\n",
    "# find the unique city and country names in the host city data frame, and use them to correct spelling mistakes\n",
    "z=host_cities_df[\"City\"].unique()\n",
    "y=host_cities_df[\"Country\"].unique()\n",
    "z\n",
    "y"
   ]
  },
  {
   "cell_type": "code",
   "execution_count": null,
   "id": "c5709d89",
   "metadata": {},
   "outputs": [],
   "source": [
    "#replace the west germany and nazi germany with germany and soviet union with russia in the host_cities file\n",
    "\n",
    "host_cities_df = host_cities_df.replace({'Germnay' : 'Germany', 'West Germany': 'Germany', 'Nazi Germany': 'Germany' , 'Soviet Union' : 'Russia'})\n",
    "\n",
    "#replace the misspelled city names with the correct ones based on the host cities file\n",
    "\n",
    "olympics_c_df= olympics_df.replace({'Athina':'Athens', 'Antwerpen':'Antwerp', 'Sankt Moritz':'St. Moritz', 'Roma':'Rome', 'Moskva':'Moscow', 'Torino':'Turin'})\n",
    "\n",
    "#merge olympics and host cities data\n",
    "\n",
    "olympics_country_df = pd.merge(olympics_c_df, host_cities_df, how=\"left\", on=[\"City\"])\n",
    "\n",
    "\n",
    "# remove duplicates from olympics data\n",
    "olympics_country_df = olympics_country_df.drop_duplicates()\n",
    "\n",
    "# look at data quickly\n",
    "olympics_country_df.head()\n",
    "\n"
   ]
  },
  {
   "cell_type": "code",
   "execution_count": null,
   "id": "05732867",
   "metadata": {},
   "outputs": [],
   "source": [
    "# leave only the columns that are relevant to the analysis\n",
    "olympics_country_df = olympics_country_df[[\"Name\", \"Team\", \"Year\", \"Season\", \"Sport\", \"Event\", \"Medal\", \"Country\"]]\n",
    "olympics_country_df.shape\n"
   ]
  },
  {
   "cell_type": "code",
   "execution_count": null,
   "id": "dc88303d",
   "metadata": {},
   "outputs": [],
   "source": [
    "# check if any NaN is left in the Country column. Shape should be equal to olympics_country_df.if there is no NaN left nothing \n",
    "# will drop and the row numbers should stay same.\n",
    "x = olympics_country_df.dropna(subset=[\"Country\"])\n",
    "x.shape\n"
   ]
  },
  {
   "cell_type": "markdown",
   "id": "4f01b43c",
   "metadata": {},
   "source": [
    "The medal column has NaN for no medal won. Replace all with 0"
   ]
  },
  {
   "cell_type": "code",
   "execution_count": null,
   "id": "964c41c7",
   "metadata": {},
   "outputs": [],
   "source": [
    "# replace all the NaN in the Medal column with 0\n",
    "values = {\"Medal\" : 0}\n",
    "olympics_country_df = olympics_country_df.fillna(value=values)\n",
    "olympics_country_df = pd.DataFrame(olympics_country_df)\n",
    "olympics_country_df.head()\n"
   ]
  },
  {
   "cell_type": "markdown",
   "id": "c47263d6",
   "metadata": {},
   "source": [
    "Make a dataframe that shows only teams for the years they hosted and remove any rows when no medal was won"
   ]
  },
  {
   "cell_type": "code",
   "execution_count": null,
   "id": "a661baf8",
   "metadata": {},
   "outputs": [],
   "source": [
    "# Make a new df where the team is from the host country\n",
    "\n",
    "host_team = olympics_country_df.loc[olympics_country_df[\"Team\"] == olympics_country_df[\"Country\"]]\n",
    "host_team.head()\n",
    "\n",
    "    "
   ]
  },
  {
   "cell_type": "code",
   "execution_count": null,
   "id": "67b29528",
   "metadata": {},
   "outputs": [],
   "source": [
    "# remove the columns with no medal win\n",
    "\n",
    "medal_win = host_team.loc[host_team[\"Medal\"] != 0]\n",
    "\n",
    "# drop any duplicate row if there is any\n",
    "medal_win = medal_win.dropna()\n",
    "\n",
    "# keep only columns of interest\n",
    "medal_win = medal_win[[ \"Team\", \"Year\", \"Medal\"]]"
   ]
  },
  {
   "cell_type": "code",
   "execution_count": null,
   "id": "9817e3ce",
   "metadata": {},
   "outputs": [],
   "source": [
    "# how many medals host countries won, do groupby\n",
    "\n",
    "medal_win_host = medal_win.groupby([\"Team\", \"Year\"]).count()\n",
    "medal_win_host\n",
    "\n",
    "# reset index \n",
    "\n",
    "host_year_medal_count = medal_win_host.reset_index()\n",
    "host_year_medal_count.head()\n"
   ]
  },
  {
   "cell_type": "code",
   "execution_count": null,
   "id": "d4702a31",
   "metadata": {},
   "outputs": [],
   "source": [
    "# from my corrected host cities dataframe find the unique countries\n",
    "host_countries = host_cities_df[\"Country\"].unique()\n",
    "host_countries"
   ]
  },
  {
   "cell_type": "markdown",
   "id": "e6371654",
   "metadata": {},
   "source": [
    "Make a dataframe that shows all the teams that hosted olympics anytime, remove rows when no medal was won, count the total medal won for that country in that year"
   ]
  },
  {
   "cell_type": "code",
   "execution_count": null,
   "id": "df24bc47",
   "metadata": {},
   "outputs": [],
   "source": [
    "# clean the olympics dataframe only that it has teams that were also hosts at anytime during the olympics\n",
    "\n",
    "only_teams_that_hosted = olympics_country_df[olympics_country_df[\"Team\"].isin(olympics_country_df[\"Country\"])]\n",
    "only_teams_that_hosted.head()"
   ]
  },
  {
   "cell_type": "code",
   "execution_count": null,
   "id": "b52c4ac8",
   "metadata": {},
   "outputs": [],
   "source": [
    "#remove the columns with no medal win\n",
    "\n",
    "medal_win_by_team = only_teams_that_hosted.loc[only_teams_that_hosted[\"Medal\"] != 0]\n",
    "medal_win_by_team = medal_win_by_team.dropna()\n",
    "\n",
    "#this is different from the medal win dataframe in that this one includes all the years the hosting country participated\n",
    "#keep only relevant columns\n",
    "\n",
    "medal_win_by_team = medal_win_by_team[[\"Team\", \"Year\", \"Medal\"]]"
   ]
  },
  {
   "cell_type": "code",
   "execution_count": null,
   "id": "8100cf41",
   "metadata": {},
   "outputs": [],
   "source": [
    "# group by team and count the medal wins of the team during the entire time (not only when it is host)\n",
    "\n",
    "year_medal_count = medal_win_by_team.groupby([\"Team\", \"Year\"]).count()\n",
    "year_medal_count.head()"
   ]
  },
  {
   "cell_type": "markdown",
   "id": "9fcebc4f",
   "metadata": {},
   "source": [
    "Make bar graphs showing how many medals each contry won. Color the year of hosting red"
   ]
  },
  {
   "cell_type": "code",
   "execution_count": null,
   "id": "f26d5e19",
   "metadata": {},
   "outputs": [],
   "source": [
    "# for loop for each team \n",
    "\n",
    "team = only_teams_that_hosted[\"Team\"].unique()\n",
    "team = team.tolist()\n",
    "team\n",
    "\n",
    "for team in team:\n",
    "    \n",
    "    teams = year_medal_count.loc[team]\n",
    "    \n",
    "    bar = host_year_medal_count.loc[host_year_medal_count[\"Team\"] == team ][\"Year\"].tolist()\n",
    "    \n",
    "    colors = [\"red\" if x in bar else \"yellow\" for x in teams.index]\n",
    "    \n",
    "    teams.plot.bar(y=\"Medal\", title=f\"Olympic medal counts for {team} \", color=colors)\n",
    "    \n",
    "    plt.show()\n",
    "    \n",
    "    "
   ]
  },
  {
   "cell_type": "markdown",
   "id": "9f11fbfe",
   "metadata": {},
   "source": [
    "Do everything only for summer Olympics"
   ]
  },
  {
   "cell_type": "code",
   "execution_count": null,
   "id": "79918fe6",
   "metadata": {},
   "outputs": [],
   "source": [
    "# get the medal wins only for summer olympics for host teams\n",
    "\n",
    "\n",
    "summer_wins = host_team.loc[host_team[\"Medal\"] != 0]\n",
    "summer_wins = summer_wins.dropna()\n",
    "summer_wins\n",
    "\n",
    "summer_wins = summer_wins.loc[summer_wins[\"Season\"] == \"Summer\"]\n",
    "summer_wins = summer_wins[[ \"Team\", \"Year\", \"Medal\"]]\n",
    "summer_wins"
   ]
  },
  {
   "cell_type": "code",
   "execution_count": null,
   "id": "791133fe",
   "metadata": {},
   "outputs": [],
   "source": [
    "# medal counts for teams during hosting\n",
    "summer_win_host = summer_wins.groupby([\"Team\", \"Year\"]).count()\n",
    "summer_win_host\n",
    "\n",
    "host_year_medal_count_summer = summer_win_host.reset_index()\n",
    "host_year_medal_count_summer.head()"
   ]
  },
  {
   "cell_type": "code",
   "execution_count": null,
   "id": "3dbe6509",
   "metadata": {},
   "outputs": [],
   "source": [
    "# divide the only teams that hosted dataframe into summer\n",
    "\n",
    "only_teams_that_hosted_summer = only_teams_that_hosted.loc[only_teams_that_hosted[\"Season\"] == \"Summer\"]\n",
    "only_teams_that_hosted_summer.head()"
   ]
  },
  {
   "cell_type": "code",
   "execution_count": null,
   "id": "499b5d9c",
   "metadata": {},
   "outputs": [],
   "source": [
    "#remove the columns with no medal win\n",
    "\n",
    "medal_win_by_team_summer = only_teams_that_hosted_summer.loc[only_teams_that_hosted_summer[\"Medal\"] != 0]\n",
    "medal_win_by_team_summer= medal_win_by_team_summer.dropna()\n",
    "medal_win_by_team_summer = medal_win_by_team_summer[[\"Team\", \"Year\", \"Medal\"]]"
   ]
  },
  {
   "cell_type": "code",
   "execution_count": null,
   "id": "e0f38cac",
   "metadata": {},
   "outputs": [],
   "source": [
    "# group by team and count the medal wins of the team during the entire time (not only when it is host)\n",
    "\n",
    "year_medal_count_summer = medal_win_by_team_summer.groupby([\"Team\", \"Year\"]).count()\n",
    "year_medal_count_summer.head()"
   ]
  },
  {
   "cell_type": "code",
   "execution_count": null,
   "id": "408a7af6",
   "metadata": {},
   "outputs": [],
   "source": [
    "# for loop for each team \n",
    "\n",
    "team = only_teams_that_hosted_summer[\"Team\"].unique()\n",
    "team = team.tolist()\n",
    "team\n",
    "\n",
    "for team in team:\n",
    "    \n",
    "    teams = year_medal_count_summer.loc[team]\n",
    "    \n",
    "    bar = host_year_medal_count_summer.loc[host_year_medal_count_summer[\"Team\"] == team ][\"Year\"].tolist()\n",
    "    \n",
    "    colors = [\"red\" if x in bar else \"yellow\" for x in teams.index]\n",
    "    \n",
    "    teams.plot.bar(y=\"Medal\", title=f\"Olympic medal counts for {team} \", color=colors)\n",
    "    \n",
    "    plt.show()\n",
    "    "
   ]
  },
  {
   "cell_type": "markdown",
   "id": "01cd9623",
   "metadata": {},
   "source": [
    "Calculate Ttest for checking the null hypothesis that states \"The mean medal win for a country before and after hosting the Olympics is NOT different\""
   ]
  },
  {
   "cell_type": "code",
   "execution_count": null,
   "id": "9a202a23",
   "metadata": {},
   "outputs": [],
   "source": [
    "# create a list of dataframes that will show the country, year they played and medals they won\n",
    "# first remove all countries that hosted for more than ones. \n",
    "\n",
    "j =year_medal_count_summer.reset_index()\n",
    "t= host_year_medal_count_summer\n",
    "\n",
    "\n",
    "t[\"Team\"].value_counts() == 1\n",
    "r = t.drop_duplicates(subset = \"Team\", keep=False)\n",
    "r\n",
    "\n",
    "# make a list that contains these countries\n",
    "team_summer = r[\"Team\"].tolist()"
   ]
  },
  {
   "cell_type": "code",
   "execution_count": null,
   "id": "2492bd32",
   "metadata": {},
   "outputs": [],
   "source": [
    "# now make a for loop that will show the country and medal wins the years after they hosted.\n",
    "team_list_after = []\n",
    "\n",
    "for team in team_summer:\n",
    "    \n",
    "    df = j.loc[(j[\"Team\"] == team) & (j[\"Year\"] > r[r['Team']==team]['Year'].values[0])]\n",
    "    team_list_after.append(df)\n",
    "    \n",
    "    \n",
    "    \n",
    "team_list_after[0]"
   ]
  },
  {
   "cell_type": "code",
   "execution_count": null,
   "id": "966fcd78",
   "metadata": {},
   "outputs": [],
   "source": [
    "# now make a for loop that will show the country and medal wins the years before they hosted.\n",
    "\n",
    "\n",
    "team_list_before = []\n",
    "\n",
    "for team in team_summer:\n",
    "    \n",
    "    df = j.loc[(j[\"Team\"] == team) & (j[\"Year\"] < r[r['Team']==team]['Year'].values[0])]\n",
    "    team_list_before.append(df)\n",
    "    \n",
    "    \n",
    "    \n",
    "team_list_before[0][\"Medal\"]"
   ]
  },
  {
   "cell_type": "code",
   "execution_count": null,
   "id": "d9db5829",
   "metadata": {},
   "outputs": [],
   "source": [
    "# calculate t test for each country data obtained from the for loops above\n",
    "#make a for loop for each team\n",
    "\n",
    "teams = []\n",
    "for i in range(len(team_list_after)):\n",
    "\n",
    "    test = stats.ttest_ind(team_list_after[i].Medal, team_list_before[i].Medal, equal_var=False)\n",
    "    teamss = team_list_after[i][\"Team\"].unique().tolist()\n",
    "    teams.append(teamss)\n",
    "    \n",
    "    print(f\"Ttest result for {teams[i]}: {test}\")"
   ]
  },
  {
   "cell_type": "markdown",
   "id": "282653ec",
   "metadata": {},
   "source": [
    "We were able to reject our null hypothesis for Belgium, Canada, China, Finland, Germany,Japan, Netherlands, South Korea and Spain. \n",
    "We failed to reject the null hypothesis for Italy and Mexico.\n",
    "We did not have enough data to perform the test on Brazil."
   ]
  },
  {
   "cell_type": "code",
   "execution_count": null,
   "id": "13e24274",
   "metadata": {},
   "outputs": [],
   "source": [
    "#Fatma end here"
   ]
  }
 ],
 "metadata": {
  "kernelspec": {
   "display_name": "Python 3",
   "language": "python",
   "name": "python3"
  },
  "language_info": {
   "codemirror_mode": {
    "name": "ipython",
    "version": 3
   },
   "file_extension": ".py",
   "mimetype": "text/x-python",
   "name": "python",
   "nbconvert_exporter": "python",
   "pygments_lexer": "ipython3",
   "version": "3.8.8"
  }
 },
 "nbformat": 4,
 "nbformat_minor": 5
}
